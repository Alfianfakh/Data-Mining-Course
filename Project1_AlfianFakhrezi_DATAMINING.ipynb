{
  "nbformat": 4,
  "nbformat_minor": 0,
  "metadata": {
    "colab": {
      "provenance": [],
      "toc_visible": true,
      "authorship_tag": "ABX9TyMKH31I9wfaNIbF5xz5zP8v",
      "include_colab_link": true
    },
    "kernelspec": {
      "name": "python3",
      "display_name": "Python 3"
    },
    "language_info": {
      "name": "python"
    }
  },
  "cells": [
    {
      "cell_type": "markdown",
      "metadata": {
        "id": "view-in-github",
        "colab_type": "text"
      },
      "source": [
        "<a href=\"https://colab.research.google.com/github/Alfianfakh/Data-Mining-Course/blob/main/Project1_AlfianFakhrezi_DATAMINING.ipynb\" target=\"_parent\"><img src=\"https://colab.research.google.com/assets/colab-badge.svg\" alt=\"Open In Colab\"/></a>"
      ]
    },
    {
      "cell_type": "code",
      "source": [
        "import pandas as pd\n",
        "import matplotlib.pyplot as plt\n",
        "import numpy as np\n",
        "import seaborn as sns"
      ],
      "metadata": {
        "id": "NsCbjCTxROm-"
      },
      "execution_count": null,
      "outputs": []
    },
    {
      "cell_type": "code",
      "source": [
        "from scipy.stats import chi2_contingency\n",
        "from scipy.stats import ttest_ind"
      ],
      "metadata": {
        "id": "oqJ5GNokRQb4"
      },
      "execution_count": null,
      "outputs": []
    },
    {
      "cell_type": "code",
      "source": [
        "from sklearn.preprocessing import LabelEncoder\n",
        "from sklearn.model_selection import train_test_split\n",
        "from sklearn.preprocessing import MinMaxScaler"
      ],
      "metadata": {
        "id": "WLB9glJkRSEi"
      },
      "execution_count": null,
      "outputs": []
    },
    {
      "cell_type": "code",
      "source": [
        "from sklearn.ensemble import RandomForestClassifier\n",
        "from sklearn.naive_bayes import GaussianNB\n",
        "from sklearn.metrics import mean_squared_error, r2_score\n",
        "from sklearn.metrics import accuracy_score\n",
        "from sklearn.metrics import classification_report\n",
        "from sklearn.metrics import roc_curve, auc, roc_auc_score\n",
        "from sklearn.metrics import confusion_matrix"
      ],
      "metadata": {
        "id": "qcYSISTcRTjo"
      },
      "execution_count": null,
      "outputs": []
    },
    {
      "cell_type": "code",
      "source": [
        "from imblearn.over_sampling import SMOTE"
      ],
      "metadata": {
        "id": "awfp39HtRVWd"
      },
      "execution_count": null,
      "outputs": []
    },
    {
      "cell_type": "markdown",
      "source": [
        "#Read Data"
      ],
      "metadata": {
        "id": "i_lNefc6REKG"
      }
    },
    {
      "cell_type": "code",
      "source": [
        "#MENGGABUNGKAN SEMUA FILE CSV\n",
        "import glob\n",
        "\n",
        "# List semua file CSV\n",
        "files = glob.glob('*.csv')\n",
        "\n",
        "dfs = []\n",
        "\n",
        "for file in files:\n",
        "    dfs.append(pd.read_csv(file))\n",
        "\n",
        "df_combined = pd.concat(dfs, ignore_index=True)\n",
        "\n",
        "#df_combined.to_csv('combined_file.csv', index=False)\n"
      ],
      "metadata": {
        "id": "Y7iytnXNIW9G"
      },
      "execution_count": null,
      "outputs": []
    },
    {
      "cell_type": "code",
      "source": [
        "df = df_combined"
      ],
      "metadata": {
        "id": "2YLY76xxNByw"
      },
      "execution_count": null,
      "outputs": []
    },
    {
      "cell_type": "code",
      "source": [
        "#df = pd.read_csv('/content/combined_file.csv')"
      ],
      "metadata": {
        "id": "Yi9h7m6sNwBM"
      },
      "execution_count": null,
      "outputs": []
    },
    {
      "cell_type": "code",
      "source": [
        "df.head()"
      ],
      "metadata": {
        "colab": {
          "base_uri": "https://localhost:8080/",
          "height": 256
        },
        "id": "YwFxtSWKNyqV",
        "outputId": "212e92e9-c0b8-4924-f60b-87f683fd3639"
      },
      "execution_count": null,
      "outputs": [
        {
          "output_type": "execute_result",
          "data": {
            "text/plain": [
              "          0         1         2         3         4         5         6  \\\n",
              "0  1.698925  1.691105  1.682307  1.672532  1.665689  1.660802  1.653959   \n",
              "1  1.086999  1.118280  1.181818  1.285435  1.431085  1.614858  1.826979   \n",
              "2  0.393939  0.417400  0.439883  0.465298  0.489736  0.514174  0.537634   \n",
              "3  2.157380  2.116325  2.076246  2.038123  2.006843  1.983382  1.963832   \n",
              "4  2.684262  2.608993  2.540567  2.473118  2.404692  2.334311  2.264907   \n",
              "\n",
              "          7         8         9  ...      4192      4193      4194      4195  \\\n",
              "0  1.647116  1.641251  1.635386  ...  2.566960  2.507331  2.444770  2.378299   \n",
              "1  2.052786  2.274682  2.479961  ...  1.101662  1.146628  1.226784  1.346041   \n",
              "2  0.560117  0.580645  0.599218  ...  0.395894  0.393939  0.391984  0.391007   \n",
              "3  1.948192  1.938416  1.933529  ...  1.708700  1.690127  1.672532  1.655914   \n",
              "4  2.197458  2.131965  2.069404  ...  1.204301  1.173998  1.143695  1.114370   \n",
              "\n",
              "       4196      4197      4198      4199  Mean_NBP_Sys  Mean_NBP_Dias  \n",
              "0  2.307918  2.233627  2.158358  2.082111     95.459603      53.603550  \n",
              "1  1.475073  1.618768  1.799609  1.998045    127.086237      64.711564  \n",
              "2  0.391007  0.391984  0.395894  0.401760    101.966686      59.802613  \n",
              "3  1.642229  1.627566  1.614858  1.604106    121.720038      75.690267  \n",
              "4  1.085044  1.055718  1.027370  1.000000    114.909305      61.397628  \n",
              "\n",
              "[5 rows x 4202 columns]"
            ],
            "text/html": [
              "\n",
              "  <div id=\"df-7921f81c-5727-43d5-97e4-ea30a58c373f\" class=\"colab-df-container\">\n",
              "    <div>\n",
              "<style scoped>\n",
              "    .dataframe tbody tr th:only-of-type {\n",
              "        vertical-align: middle;\n",
              "    }\n",
              "\n",
              "    .dataframe tbody tr th {\n",
              "        vertical-align: top;\n",
              "    }\n",
              "\n",
              "    .dataframe thead th {\n",
              "        text-align: right;\n",
              "    }\n",
              "</style>\n",
              "<table border=\"1\" class=\"dataframe\">\n",
              "  <thead>\n",
              "    <tr style=\"text-align: right;\">\n",
              "      <th></th>\n",
              "      <th>0</th>\n",
              "      <th>1</th>\n",
              "      <th>2</th>\n",
              "      <th>3</th>\n",
              "      <th>4</th>\n",
              "      <th>5</th>\n",
              "      <th>6</th>\n",
              "      <th>7</th>\n",
              "      <th>8</th>\n",
              "      <th>9</th>\n",
              "      <th>...</th>\n",
              "      <th>4192</th>\n",
              "      <th>4193</th>\n",
              "      <th>4194</th>\n",
              "      <th>4195</th>\n",
              "      <th>4196</th>\n",
              "      <th>4197</th>\n",
              "      <th>4198</th>\n",
              "      <th>4199</th>\n",
              "      <th>Mean_NBP_Sys</th>\n",
              "      <th>Mean_NBP_Dias</th>\n",
              "    </tr>\n",
              "  </thead>\n",
              "  <tbody>\n",
              "    <tr>\n",
              "      <th>0</th>\n",
              "      <td>1.698925</td>\n",
              "      <td>1.691105</td>\n",
              "      <td>1.682307</td>\n",
              "      <td>1.672532</td>\n",
              "      <td>1.665689</td>\n",
              "      <td>1.660802</td>\n",
              "      <td>1.653959</td>\n",
              "      <td>1.647116</td>\n",
              "      <td>1.641251</td>\n",
              "      <td>1.635386</td>\n",
              "      <td>...</td>\n",
              "      <td>2.566960</td>\n",
              "      <td>2.507331</td>\n",
              "      <td>2.444770</td>\n",
              "      <td>2.378299</td>\n",
              "      <td>2.307918</td>\n",
              "      <td>2.233627</td>\n",
              "      <td>2.158358</td>\n",
              "      <td>2.082111</td>\n",
              "      <td>95.459603</td>\n",
              "      <td>53.603550</td>\n",
              "    </tr>\n",
              "    <tr>\n",
              "      <th>1</th>\n",
              "      <td>1.086999</td>\n",
              "      <td>1.118280</td>\n",
              "      <td>1.181818</td>\n",
              "      <td>1.285435</td>\n",
              "      <td>1.431085</td>\n",
              "      <td>1.614858</td>\n",
              "      <td>1.826979</td>\n",
              "      <td>2.052786</td>\n",
              "      <td>2.274682</td>\n",
              "      <td>2.479961</td>\n",
              "      <td>...</td>\n",
              "      <td>1.101662</td>\n",
              "      <td>1.146628</td>\n",
              "      <td>1.226784</td>\n",
              "      <td>1.346041</td>\n",
              "      <td>1.475073</td>\n",
              "      <td>1.618768</td>\n",
              "      <td>1.799609</td>\n",
              "      <td>1.998045</td>\n",
              "      <td>127.086237</td>\n",
              "      <td>64.711564</td>\n",
              "    </tr>\n",
              "    <tr>\n",
              "      <th>2</th>\n",
              "      <td>0.393939</td>\n",
              "      <td>0.417400</td>\n",
              "      <td>0.439883</td>\n",
              "      <td>0.465298</td>\n",
              "      <td>0.489736</td>\n",
              "      <td>0.514174</td>\n",
              "      <td>0.537634</td>\n",
              "      <td>0.560117</td>\n",
              "      <td>0.580645</td>\n",
              "      <td>0.599218</td>\n",
              "      <td>...</td>\n",
              "      <td>0.395894</td>\n",
              "      <td>0.393939</td>\n",
              "      <td>0.391984</td>\n",
              "      <td>0.391007</td>\n",
              "      <td>0.391007</td>\n",
              "      <td>0.391984</td>\n",
              "      <td>0.395894</td>\n",
              "      <td>0.401760</td>\n",
              "      <td>101.966686</td>\n",
              "      <td>59.802613</td>\n",
              "    </tr>\n",
              "    <tr>\n",
              "      <th>3</th>\n",
              "      <td>2.157380</td>\n",
              "      <td>2.116325</td>\n",
              "      <td>2.076246</td>\n",
              "      <td>2.038123</td>\n",
              "      <td>2.006843</td>\n",
              "      <td>1.983382</td>\n",
              "      <td>1.963832</td>\n",
              "      <td>1.948192</td>\n",
              "      <td>1.938416</td>\n",
              "      <td>1.933529</td>\n",
              "      <td>...</td>\n",
              "      <td>1.708700</td>\n",
              "      <td>1.690127</td>\n",
              "      <td>1.672532</td>\n",
              "      <td>1.655914</td>\n",
              "      <td>1.642229</td>\n",
              "      <td>1.627566</td>\n",
              "      <td>1.614858</td>\n",
              "      <td>1.604106</td>\n",
              "      <td>121.720038</td>\n",
              "      <td>75.690267</td>\n",
              "    </tr>\n",
              "    <tr>\n",
              "      <th>4</th>\n",
              "      <td>2.684262</td>\n",
              "      <td>2.608993</td>\n",
              "      <td>2.540567</td>\n",
              "      <td>2.473118</td>\n",
              "      <td>2.404692</td>\n",
              "      <td>2.334311</td>\n",
              "      <td>2.264907</td>\n",
              "      <td>2.197458</td>\n",
              "      <td>2.131965</td>\n",
              "      <td>2.069404</td>\n",
              "      <td>...</td>\n",
              "      <td>1.204301</td>\n",
              "      <td>1.173998</td>\n",
              "      <td>1.143695</td>\n",
              "      <td>1.114370</td>\n",
              "      <td>1.085044</td>\n",
              "      <td>1.055718</td>\n",
              "      <td>1.027370</td>\n",
              "      <td>1.000000</td>\n",
              "      <td>114.909305</td>\n",
              "      <td>61.397628</td>\n",
              "    </tr>\n",
              "  </tbody>\n",
              "</table>\n",
              "<p>5 rows × 4202 columns</p>\n",
              "</div>\n",
              "    <div class=\"colab-df-buttons\">\n",
              "\n",
              "  <div class=\"colab-df-container\">\n",
              "    <button class=\"colab-df-convert\" onclick=\"convertToInteractive('df-7921f81c-5727-43d5-97e4-ea30a58c373f')\"\n",
              "            title=\"Convert this dataframe to an interactive table.\"\n",
              "            style=\"display:none;\">\n",
              "\n",
              "  <svg xmlns=\"http://www.w3.org/2000/svg\" height=\"24px\" viewBox=\"0 -960 960 960\">\n",
              "    <path d=\"M120-120v-720h720v720H120Zm60-500h600v-160H180v160Zm220 220h160v-160H400v160Zm0 220h160v-160H400v160ZM180-400h160v-160H180v160Zm440 0h160v-160H620v160ZM180-180h160v-160H180v160Zm440 0h160v-160H620v160Z\"/>\n",
              "  </svg>\n",
              "    </button>\n",
              "\n",
              "  <style>\n",
              "    .colab-df-container {\n",
              "      display:flex;\n",
              "      gap: 12px;\n",
              "    }\n",
              "\n",
              "    .colab-df-convert {\n",
              "      background-color: #E8F0FE;\n",
              "      border: none;\n",
              "      border-radius: 50%;\n",
              "      cursor: pointer;\n",
              "      display: none;\n",
              "      fill: #1967D2;\n",
              "      height: 32px;\n",
              "      padding: 0 0 0 0;\n",
              "      width: 32px;\n",
              "    }\n",
              "\n",
              "    .colab-df-convert:hover {\n",
              "      background-color: #E2EBFA;\n",
              "      box-shadow: 0px 1px 2px rgba(60, 64, 67, 0.3), 0px 1px 3px 1px rgba(60, 64, 67, 0.15);\n",
              "      fill: #174EA6;\n",
              "    }\n",
              "\n",
              "    .colab-df-buttons div {\n",
              "      margin-bottom: 4px;\n",
              "    }\n",
              "\n",
              "    [theme=dark] .colab-df-convert {\n",
              "      background-color: #3B4455;\n",
              "      fill: #D2E3FC;\n",
              "    }\n",
              "\n",
              "    [theme=dark] .colab-df-convert:hover {\n",
              "      background-color: #434B5C;\n",
              "      box-shadow: 0px 1px 3px 1px rgba(0, 0, 0, 0.15);\n",
              "      filter: drop-shadow(0px 1px 2px rgba(0, 0, 0, 0.3));\n",
              "      fill: #FFFFFF;\n",
              "    }\n",
              "  </style>\n",
              "\n",
              "    <script>\n",
              "      const buttonEl =\n",
              "        document.querySelector('#df-7921f81c-5727-43d5-97e4-ea30a58c373f button.colab-df-convert');\n",
              "      buttonEl.style.display =\n",
              "        google.colab.kernel.accessAllowed ? 'block' : 'none';\n",
              "\n",
              "      async function convertToInteractive(key) {\n",
              "        const element = document.querySelector('#df-7921f81c-5727-43d5-97e4-ea30a58c373f');\n",
              "        const dataTable =\n",
              "          await google.colab.kernel.invokeFunction('convertToInteractive',\n",
              "                                                    [key], {});\n",
              "        if (!dataTable) return;\n",
              "\n",
              "        const docLinkHtml = 'Like what you see? Visit the ' +\n",
              "          '<a target=\"_blank\" href=https://colab.research.google.com/notebooks/data_table.ipynb>data table notebook</a>'\n",
              "          + ' to learn more about interactive tables.';\n",
              "        element.innerHTML = '';\n",
              "        dataTable['output_type'] = 'display_data';\n",
              "        await google.colab.output.renderOutput(dataTable, element);\n",
              "        const docLink = document.createElement('div');\n",
              "        docLink.innerHTML = docLinkHtml;\n",
              "        element.appendChild(docLink);\n",
              "      }\n",
              "    </script>\n",
              "  </div>\n",
              "\n",
              "\n",
              "<div id=\"df-f2a52ec5-4a87-4468-ac92-ac5132f8a101\">\n",
              "  <button class=\"colab-df-quickchart\" onclick=\"quickchart('df-f2a52ec5-4a87-4468-ac92-ac5132f8a101')\"\n",
              "            title=\"Suggest charts\"\n",
              "            style=\"display:none;\">\n",
              "\n",
              "<svg xmlns=\"http://www.w3.org/2000/svg\" height=\"24px\"viewBox=\"0 0 24 24\"\n",
              "     width=\"24px\">\n",
              "    <g>\n",
              "        <path d=\"M19 3H5c-1.1 0-2 .9-2 2v14c0 1.1.9 2 2 2h14c1.1 0 2-.9 2-2V5c0-1.1-.9-2-2-2zM9 17H7v-7h2v7zm4 0h-2V7h2v10zm4 0h-2v-4h2v4z\"/>\n",
              "    </g>\n",
              "</svg>\n",
              "  </button>\n",
              "\n",
              "<style>\n",
              "  .colab-df-quickchart {\n",
              "      --bg-color: #E8F0FE;\n",
              "      --fill-color: #1967D2;\n",
              "      --hover-bg-color: #E2EBFA;\n",
              "      --hover-fill-color: #174EA6;\n",
              "      --disabled-fill-color: #AAA;\n",
              "      --disabled-bg-color: #DDD;\n",
              "  }\n",
              "\n",
              "  [theme=dark] .colab-df-quickchart {\n",
              "      --bg-color: #3B4455;\n",
              "      --fill-color: #D2E3FC;\n",
              "      --hover-bg-color: #434B5C;\n",
              "      --hover-fill-color: #FFFFFF;\n",
              "      --disabled-bg-color: #3B4455;\n",
              "      --disabled-fill-color: #666;\n",
              "  }\n",
              "\n",
              "  .colab-df-quickchart {\n",
              "    background-color: var(--bg-color);\n",
              "    border: none;\n",
              "    border-radius: 50%;\n",
              "    cursor: pointer;\n",
              "    display: none;\n",
              "    fill: var(--fill-color);\n",
              "    height: 32px;\n",
              "    padding: 0;\n",
              "    width: 32px;\n",
              "  }\n",
              "\n",
              "  .colab-df-quickchart:hover {\n",
              "    background-color: var(--hover-bg-color);\n",
              "    box-shadow: 0 1px 2px rgba(60, 64, 67, 0.3), 0 1px 3px 1px rgba(60, 64, 67, 0.15);\n",
              "    fill: var(--button-hover-fill-color);\n",
              "  }\n",
              "\n",
              "  .colab-df-quickchart-complete:disabled,\n",
              "  .colab-df-quickchart-complete:disabled:hover {\n",
              "    background-color: var(--disabled-bg-color);\n",
              "    fill: var(--disabled-fill-color);\n",
              "    box-shadow: none;\n",
              "  }\n",
              "\n",
              "  .colab-df-spinner {\n",
              "    border: 2px solid var(--fill-color);\n",
              "    border-color: transparent;\n",
              "    border-bottom-color: var(--fill-color);\n",
              "    animation:\n",
              "      spin 1s steps(1) infinite;\n",
              "  }\n",
              "\n",
              "  @keyframes spin {\n",
              "    0% {\n",
              "      border-color: transparent;\n",
              "      border-bottom-color: var(--fill-color);\n",
              "      border-left-color: var(--fill-color);\n",
              "    }\n",
              "    20% {\n",
              "      border-color: transparent;\n",
              "      border-left-color: var(--fill-color);\n",
              "      border-top-color: var(--fill-color);\n",
              "    }\n",
              "    30% {\n",
              "      border-color: transparent;\n",
              "      border-left-color: var(--fill-color);\n",
              "      border-top-color: var(--fill-color);\n",
              "      border-right-color: var(--fill-color);\n",
              "    }\n",
              "    40% {\n",
              "      border-color: transparent;\n",
              "      border-right-color: var(--fill-color);\n",
              "      border-top-color: var(--fill-color);\n",
              "    }\n",
              "    60% {\n",
              "      border-color: transparent;\n",
              "      border-right-color: var(--fill-color);\n",
              "    }\n",
              "    80% {\n",
              "      border-color: transparent;\n",
              "      border-right-color: var(--fill-color);\n",
              "      border-bottom-color: var(--fill-color);\n",
              "    }\n",
              "    90% {\n",
              "      border-color: transparent;\n",
              "      border-bottom-color: var(--fill-color);\n",
              "    }\n",
              "  }\n",
              "</style>\n",
              "\n",
              "  <script>\n",
              "    async function quickchart(key) {\n",
              "      const quickchartButtonEl =\n",
              "        document.querySelector('#' + key + ' button');\n",
              "      quickchartButtonEl.disabled = true;  // To prevent multiple clicks.\n",
              "      quickchartButtonEl.classList.add('colab-df-spinner');\n",
              "      try {\n",
              "        const charts = await google.colab.kernel.invokeFunction(\n",
              "            'suggestCharts', [key], {});\n",
              "      } catch (error) {\n",
              "        console.error('Error during call to suggestCharts:', error);\n",
              "      }\n",
              "      quickchartButtonEl.classList.remove('colab-df-spinner');\n",
              "      quickchartButtonEl.classList.add('colab-df-quickchart-complete');\n",
              "    }\n",
              "    (() => {\n",
              "      let quickchartButtonEl =\n",
              "        document.querySelector('#df-f2a52ec5-4a87-4468-ac92-ac5132f8a101 button');\n",
              "      quickchartButtonEl.style.display =\n",
              "        google.colab.kernel.accessAllowed ? 'block' : 'none';\n",
              "    })();\n",
              "  </script>\n",
              "</div>\n",
              "    </div>\n",
              "  </div>\n"
            ],
            "application/vnd.google.colaboratory.intrinsic+json": {
              "type": "dataframe",
              "variable_name": "df"
            }
          },
          "metadata": {},
          "execution_count": 76
        }
      ]
    },
    {
      "cell_type": "code",
      "source": [
        "import matplotlib.pyplot as plt\n",
        "\n",
        "# Ambil baris pertama sebagai contoh\n",
        "row = df.iloc[0, :-2]  # Ambil semua kolom kecuali dua kolom terakhir\n",
        "\n",
        "plt.plot(row)\n",
        "\n",
        "# Menambahkan label sumbu dan judul\n",
        "plt.xlabel('Indeks Kolom')\n",
        "plt.ylabel('Nilai')\n",
        "plt.title('Visualisasi Data Per Baris')\n",
        "\n",
        "# Menampilkan plot\n",
        "plt.show()\n"
      ],
      "metadata": {
        "colab": {
          "base_uri": "https://localhost:8080/",
          "height": 472
        },
        "id": "bpMPvdQLGtOQ",
        "outputId": "e0c088e5-74e1-4eb1-b723-c035dbfebc52"
      },
      "execution_count": null,
      "outputs": [
        {
          "output_type": "display_data",
          "data": {
            "text/plain": [
              "<Figure size 640x480 with 1 Axes>"
            ],
            "image/png": "[encoded data removed]"
          },
          "metadata": {}
        }
      ]
    },
    {
      "cell_type": "markdown",
      "source": [
        "# Stat Desc"
      ],
      "metadata": {
        "id": "KB3cBmCiRkXu"
      }
    },
    {
      "cell_type": "code",
      "source": [
        "df.info()"
      ],
      "metadata": {
        "colab": {
          "base_uri": "https://localhost:8080/"
        },
        "id": "VkwkNw6bN0ue",
        "outputId": "b5b23ac8-ea5f-4da7-950b-7d5697ec93bd"
      },
      "execution_count": null,
      "outputs": [
        {
          "output_type": "stream",
          "name": "stdout",
          "text": [
            "<class 'pandas.core.frame.DataFrame'>\n",
            "RangeIndex: 54 entries, 0 to 53\n",
            "Columns: 4202 entries, 0 to Mean_NBP_Dias\n",
            "dtypes: float64(4202)\n",
            "memory usage: 1.7 MB\n"
          ]
        }
      ]
    },
    {
      "cell_type": "code",
      "source": [
        "df.describe().T"
      ],
      "metadata": {
        "colab": {
          "base_uri": "https://localhost:8080/",
          "height": 424
        },
        "id": "h9glIG7MN2xH",
        "outputId": "1624dfae-b851-4322-8e1c-2e588e6be45c"
      },
      "execution_count": null,
      "outputs": [
        {
          "output_type": "execute_result",
          "data": {
            "text/plain": [
              "               count        mean        std        min         25%  \\\n",
              "0               54.0    1.031910   0.772118   0.164223    0.399020   \n",
              "1               54.0    1.028811   0.766763   0.161290    0.406863   \n",
              "2               54.0    1.026817   0.761899   0.159335    0.407047   \n",
              "3               54.0    1.026128   0.757500   0.157380    0.394969   \n",
              "4               54.0    1.027141   0.754359   0.155425    0.406863   \n",
              "...              ...         ...        ...        ...         ...   \n",
              "4197            54.0    0.969867   0.723765   0.133920    0.404902   \n",
              "4198            54.0    0.967148   0.721710   0.133920    0.405882   \n",
              "4199            54.0    0.965062   0.720546   0.133920    0.403280   \n",
              "Mean_NBP_Sys    54.0  116.362132  13.076672  87.666667  109.325368   \n",
              "Mean_NBP_Dias   54.0   60.156387   9.340074  39.291667   54.346999   \n",
              "\n",
              "                      50%         75%         max  \n",
              "0                0.637295    1.528837    2.900293  \n",
              "1                0.629469    1.598729    2.920821  \n",
              "2                0.631373    1.625122    2.928641  \n",
              "3                0.633333    1.607038    2.923754  \n",
              "4                0.631373    1.576002    2.908113  \n",
              "...                   ...         ...         ...  \n",
              "4197             0.584314    1.501955    3.183773  \n",
              "4198             0.576471    1.499511    3.173998  \n",
              "4199             0.574510    1.486804    3.154448  \n",
              "Mean_NBP_Sys   114.284582  123.381396  164.577621  \n",
              "Mean_NBP_Dias   61.592166   65.464487   77.899401  \n",
              "\n",
              "[4202 rows x 8 columns]"
            ],
            "text/html": [
              "\n",
              "  <div id=\"df-3250eb27-f205-48ee-b647-d40d7555f75d\" class=\"colab-df-container\">\n",
              "    <div>\n",
              "<style scoped>\n",
              "    .dataframe tbody tr th:only-of-type {\n",
              "        vertical-align: middle;\n",
              "    }\n",
              "\n",
              "    .dataframe tbody tr th {\n",
              "        vertical-align: top;\n",
              "    }\n",
              "\n",
              "    .dataframe thead th {\n",
              "        text-align: right;\n",
              "    }\n",
              "</style>\n",
              "<table border=\"1\" class=\"dataframe\">\n",
              "  <thead>\n",
              "    <tr style=\"text-align: right;\">\n",
              "      <th></th>\n",
              "      <th>count</th>\n",
              "      <th>mean</th>\n",
              "      <th>std</th>\n",
              "      <th>min</th>\n",
              "      <th>25%</th>\n",
              "      <th>50%</th>\n",
              "      <th>75%</th>\n",
              "      <th>max</th>\n",
              "    </tr>\n",
              "  </thead>\n",
              "  <tbody>\n",
              "    <tr>\n",
              "      <th>0</th>\n",
              "      <td>54.0</td>\n",
              "      <td>1.031910</td>\n",
              "      <td>0.772118</td>\n",
              "      <td>0.164223</td>\n",
              "      <td>0.399020</td>\n",
              "      <td>0.637295</td>\n",
              "      <td>1.528837</td>\n",
              "      <td>2.900293</td>\n",
              "    </tr>\n",
              "    <tr>\n",
              "      <th>1</th>\n",
              "      <td>54.0</td>\n",
              "      <td>1.028811</td>\n",
              "      <td>0.766763</td>\n",
              "      <td>0.161290</td>\n",
              "      <td>0.406863</td>\n",
              "      <td>0.629469</td>\n",
              "      <td>1.598729</td>\n",
              "      <td>2.920821</td>\n",
              "    </tr>\n",
              "    <tr>\n",
              "      <th>2</th>\n",
              "      <td>54.0</td>\n",
              "      <td>1.026817</td>\n",
              "      <td>0.761899</td>\n",
              "      <td>0.159335</td>\n",
              "      <td>0.407047</td>\n",
              "      <td>0.631373</td>\n",
              "      <td>1.625122</td>\n",
              "      <td>2.928641</td>\n",
              "    </tr>\n",
              "    <tr>\n",
              "      <th>3</th>\n",
              "      <td>54.0</td>\n",
              "      <td>1.026128</td>\n",
              "      <td>0.757500</td>\n",
              "      <td>0.157380</td>\n",
              "      <td>0.394969</td>\n",
              "      <td>0.633333</td>\n",
              "      <td>1.607038</td>\n",
              "      <td>2.923754</td>\n",
              "    </tr>\n",
              "    <tr>\n",
              "      <th>4</th>\n",
              "      <td>54.0</td>\n",
              "      <td>1.027141</td>\n",
              "      <td>0.754359</td>\n",
              "      <td>0.155425</td>\n",
              "      <td>0.406863</td>\n",
              "      <td>0.631373</td>\n",
              "      <td>1.576002</td>\n",
              "      <td>2.908113</td>\n",
              "    </tr>\n",
              "    <tr>\n",
              "      <th>...</th>\n",
              "      <td>...</td>\n",
              "      <td>...</td>\n",
              "      <td>...</td>\n",
              "      <td>...</td>\n",
              "      <td>...</td>\n",
              "      <td>...</td>\n",
              "      <td>...</td>\n",
              "      <td>...</td>\n",
              "    </tr>\n",
              "    <tr>\n",
              "      <th>4197</th>\n",
              "      <td>54.0</td>\n",
              "      <td>0.969867</td>\n",
              "      <td>0.723765</td>\n",
              "      <td>0.133920</td>\n",
              "      <td>0.404902</td>\n",
              "      <td>0.584314</td>\n",
              "      <td>1.501955</td>\n",
              "      <td>3.183773</td>\n",
              "    </tr>\n",
              "    <tr>\n",
              "      <th>4198</th>\n",
              "      <td>54.0</td>\n",
              "      <td>0.967148</td>\n",
              "      <td>0.721710</td>\n",
              "      <td>0.133920</td>\n",
              "      <td>0.405882</td>\n",
              "      <td>0.576471</td>\n",
              "      <td>1.499511</td>\n",
              "      <td>3.173998</td>\n",
              "    </tr>\n",
              "    <tr>\n",
              "      <th>4199</th>\n",
              "      <td>54.0</td>\n",
              "      <td>0.965062</td>\n",
              "      <td>0.720546</td>\n",
              "      <td>0.133920</td>\n",
              "      <td>0.403280</td>\n",
              "      <td>0.574510</td>\n",
              "      <td>1.486804</td>\n",
              "      <td>3.154448</td>\n",
              "    </tr>\n",
              "    <tr>\n",
              "      <th>Mean_NBP_Sys</th>\n",
              "      <td>54.0</td>\n",
              "      <td>116.362132</td>\n",
              "      <td>13.076672</td>\n",
              "      <td>87.666667</td>\n",
              "      <td>109.325368</td>\n",
              "      <td>114.284582</td>\n",
              "      <td>123.381396</td>\n",
              "      <td>164.577621</td>\n",
              "    </tr>\n",
              "    <tr>\n",
              "      <th>Mean_NBP_Dias</th>\n",
              "      <td>54.0</td>\n",
              "      <td>60.156387</td>\n",
              "      <td>9.340074</td>\n",
              "      <td>39.291667</td>\n",
              "      <td>54.346999</td>\n",
              "      <td>61.592166</td>\n",
              "      <td>65.464487</td>\n",
              "      <td>77.899401</td>\n",
              "    </tr>\n",
              "  </tbody>\n",
              "</table>\n",
              "<p>4202 rows × 8 columns</p>\n",
              "</div>\n",
              "    <div class=\"colab-df-buttons\">\n",
              "\n",
              "  <div class=\"colab-df-container\">\n",
              "    <button class=\"colab-df-convert\" onclick=\"convertToInteractive('df-3250eb27-f205-48ee-b647-d40d7555f75d')\"\n",
              "            title=\"Convert this dataframe to an interactive table.\"\n",
              "            style=\"display:none;\">\n",
              "\n",
              "  <svg xmlns=\"http://www.w3.org/2000/svg\" height=\"24px\" viewBox=\"0 -960 960 960\">\n",
              "    <path d=\"M120-120v-720h720v720H120Zm60-500h600v-160H180v160Zm220 220h160v-160H400v160Zm0 220h160v-160H400v160ZM180-400h160v-160H180v160Zm440 0h160v-160H620v160ZM180-180h160v-160H180v160Zm440 0h160v-160H620v160Z\"/>\n",
              "  </svg>\n",
              "    </button>\n",
              "\n",
              "  <style>\n",
              "    .colab-df-container {\n",
              "      display:flex;\n",
              "      gap: 12px;\n",
              "    }\n",
              "\n",
              "    .colab-df-convert {\n",
              "      background-color: #E8F0FE;\n",
              "      border: none;\n",
              "      border-radius: 50%;\n",
              "      cursor: pointer;\n",
              "      display: none;\n",
              "      fill: #1967D2;\n",
              "      height: 32px;\n",
              "      padding: 0 0 0 0;\n",
              "      width: 32px;\n",
              "    }\n",
              "\n",
              "    .colab-df-convert:hover {\n",
              "      background-color: #E2EBFA;\n",
              "      box-shadow: 0px 1px 2px rgba(60, 64, 67, 0.3), 0px 1px 3px 1px rgba(60, 64, 67, 0.15);\n",
              "      fill: #174EA6;\n",
              "    }\n",
              "\n",
              "    .colab-df-buttons div {\n",
              "      margin-bottom: 4px;\n",
              "    }\n",
              "\n",
              "    [theme=dark] .colab-df-convert {\n",
              "      background-color: #3B4455;\n",
              "      fill: #D2E3FC;\n",
              "    }\n",
              "\n",
              "    [theme=dark] .colab-df-convert:hover {\n",
              "      background-color: #434B5C;\n",
              "      box-shadow: 0px 1px 3px 1px rgba(0, 0, 0, 0.15);\n",
              "      filter: drop-shadow(0px 1px 2px rgba(0, 0, 0, 0.3));\n",
              "      fill: #FFFFFF;\n",
              "    }\n",
              "  </style>\n",
              "\n",
              "    <script>\n",
              "      const buttonEl =\n",
              "        document.querySelector('#df-3250eb27-f205-48ee-b647-d40d7555f75d button.colab-df-convert');\n",
              "      buttonEl.style.display =\n",
              "        google.colab.kernel.accessAllowed ? 'block' : 'none';\n",
              "\n",
              "      async function convertToInteractive(key) {\n",
              "        const element = document.querySelector('#df-3250eb27-f205-48ee-b647-d40d7555f75d');\n",
              "        const dataTable =\n",
              "          await google.colab.kernel.invokeFunction('convertToInteractive',\n",
              "                                                    [key], {});\n",
              "        if (!dataTable) return;\n",
              "\n",
              "        const docLinkHtml = 'Like what you see? Visit the ' +\n",
              "          '<a target=\"_blank\" href=https://colab.research.google.com/notebooks/data_table.ipynb>data table notebook</a>'\n",
              "          + ' to learn more about interactive tables.';\n",
              "        element.innerHTML = '';\n",
              "        dataTable['output_type'] = 'display_data';\n",
              "        await google.colab.output.renderOutput(dataTable, element);\n",
              "        const docLink = document.createElement('div');\n",
              "        docLink.innerHTML = docLinkHtml;\n",
              "        element.appendChild(docLink);\n",
              "      }\n",
              "    </script>\n",
              "  </div>\n",
              "\n",
              "\n",
              "<div id=\"df-ea03c2d3-7c81-4286-b7bb-3a1053dde220\">\n",
              "  <button class=\"colab-df-quickchart\" onclick=\"quickchart('df-ea03c2d3-7c81-4286-b7bb-3a1053dde220')\"\n",
              "            title=\"Suggest charts\"\n",
              "            style=\"display:none;\">\n",
              "\n",
              "<svg xmlns=\"http://www.w3.org/2000/svg\" height=\"24px\"viewBox=\"0 0 24 24\"\n",
              "     width=\"24px\">\n",
              "    <g>\n",
              "        <path d=\"M19 3H5c-1.1 0-2 .9-2 2v14c0 1.1.9 2 2 2h14c1.1 0 2-.9 2-2V5c0-1.1-.9-2-2-2zM9 17H7v-7h2v7zm4 0h-2V7h2v10zm4 0h-2v-4h2v4z\"/>\n",
              "    </g>\n",
              "</svg>\n",
              "  </button>\n",
              "\n",
              "<style>\n",
              "  .colab-df-quickchart {\n",
              "      --bg-color: #E8F0FE;\n",
              "      --fill-color: #1967D2;\n",
              "      --hover-bg-color: #E2EBFA;\n",
              "      --hover-fill-color: #174EA6;\n",
              "      --disabled-fill-color: #AAA;\n",
              "      --disabled-bg-color: #DDD;\n",
              "  }\n",
              "\n",
              "  [theme=dark] .colab-df-quickchart {\n",
              "      --bg-color: #3B4455;\n",
              "      --fill-color: #D2E3FC;\n",
              "      --hover-bg-color: #434B5C;\n",
              "      --hover-fill-color: #FFFFFF;\n",
              "      --disabled-bg-color: #3B4455;\n",
              "      --disabled-fill-color: #666;\n",
              "  }\n",
              "\n",
              "  .colab-df-quickchart {\n",
              "    background-color: var(--bg-color);\n",
              "    border: none;\n",
              "    border-radius: 50%;\n",
              "    cursor: pointer;\n",
              "    display: none;\n",
              "    fill: var(--fill-color);\n",
              "    height: 32px;\n",
              "    padding: 0;\n",
              "    width: 32px;\n",
              "  }\n",
              "\n",
              "  .colab-df-quickchart:hover {\n",
              "    background-color: var(--hover-bg-color);\n",
              "    box-shadow: 0 1px 2px rgba(60, 64, 67, 0.3), 0 1px 3px 1px rgba(60, 64, 67, 0.15);\n",
              "    fill: var(--button-hover-fill-color);\n",
              "  }\n",
              "\n",
              "  .colab-df-quickchart-complete:disabled,\n",
              "  .colab-df-quickchart-complete:disabled:hover {\n",
              "    background-color: var(--disabled-bg-color);\n",
              "    fill: var(--disabled-fill-color);\n",
              "    box-shadow: none;\n",
              "  }\n",
              "\n",
              "  .colab-df-spinner {\n",
              "    border: 2px solid var(--fill-color);\n",
              "    border-color: transparent;\n",
              "    border-bottom-color: var(--fill-color);\n",
              "    animation:\n",
              "      spin 1s steps(1) infinite;\n",
              "  }\n",
              "\n",
              "  @keyframes spin {\n",
              "    0% {\n",
              "      border-color: transparent;\n",
              "      border-bottom-color: var(--fill-color);\n",
              "      border-left-color: var(--fill-color);\n",
              "    }\n",
              "    20% {\n",
              "      border-color: transparent;\n",
              "      border-left-color: var(--fill-color);\n",
              "      border-top-color: var(--fill-color);\n",
              "    }\n",
              "    30% {\n",
              "      border-color: transparent;\n",
              "      border-left-color: var(--fill-color);\n",
              "      border-top-color: var(--fill-color);\n",
              "      border-right-color: var(--fill-color);\n",
              "    }\n",
              "    40% {\n",
              "      border-color: transparent;\n",
              "      border-right-color: var(--fill-color);\n",
              "      border-top-color: var(--fill-color);\n",
              "    }\n",
              "    60% {\n",
              "      border-color: transparent;\n",
              "      border-right-color: var(--fill-color);\n",
              "    }\n",
              "    80% {\n",
              "      border-color: transparent;\n",
              "      border-right-color: var(--fill-color);\n",
              "      border-bottom-color: var(--fill-color);\n",
              "    }\n",
              "    90% {\n",
              "      border-color: transparent;\n",
              "      border-bottom-color: var(--fill-color);\n",
              "    }\n",
              "  }\n",
              "</style>\n",
              "\n",
              "  <script>\n",
              "    async function quickchart(key) {\n",
              "      const quickchartButtonEl =\n",
              "        document.querySelector('#' + key + ' button');\n",
              "      quickchartButtonEl.disabled = true;  // To prevent multiple clicks.\n",
              "      quickchartButtonEl.classList.add('colab-df-spinner');\n",
              "      try {\n",
              "        const charts = await google.colab.kernel.invokeFunction(\n",
              "            'suggestCharts', [key], {});\n",
              "      } catch (error) {\n",
              "        console.error('Error during call to suggestCharts:', error);\n",
              "      }\n",
              "      quickchartButtonEl.classList.remove('colab-df-spinner');\n",
              "      quickchartButtonEl.classList.add('colab-df-quickchart-complete');\n",
              "    }\n",
              "    (() => {\n",
              "      let quickchartButtonEl =\n",
              "        document.querySelector('#df-ea03c2d3-7c81-4286-b7bb-3a1053dde220 button');\n",
              "      quickchartButtonEl.style.display =\n",
              "        google.colab.kernel.accessAllowed ? 'block' : 'none';\n",
              "    })();\n",
              "  </script>\n",
              "</div>\n",
              "    </div>\n",
              "  </div>\n"
            ],
            "application/vnd.google.colaboratory.intrinsic+json": {
              "type": "dataframe",
              "summary": "{\n  \"name\": \"df\",\n  \"rows\": 4202,\n  \"fields\": [\n    {\n      \"column\": \"count\",\n      \"properties\": {\n        \"dtype\": \"number\",\n        \"std\": 0.015426662418507235,\n        \"min\": 53.0,\n        \"max\": 54.0,\n        \"num_unique_values\": 2,\n        \"samples\": [\n          53.0,\n          54.0\n        ],\n        \"semantic_type\": \"\",\n        \"description\": \"\"\n      }\n    },\n    {\n      \"column\": \"mean\",\n      \"properties\": {\n        \"dtype\": \"number\",\n        \"std\": 1.999788179209646,\n        \"min\": 0.8880472445304831,\n        \"max\": 116.36213240225572,\n        \"num_unique_values\": 4194,\n        \"samples\": [\n          1.0386796491160817,\n          0.9515277165498544\n        ],\n        \"semantic_type\": \"\",\n        \"description\": \"\"\n      }\n    },\n    {\n      \"column\": \"std\",\n      \"properties\": {\n        \"dtype\": \"number\",\n        \"std\": 0.24080082622560667,\n        \"min\": 0.5793758579309317,\n        \"max\": 13.076671545014486,\n        \"num_unique_values\": 4202,\n        \"samples\": [\n          0.7492801313218478,\n          0.6915294001050633\n        ],\n        \"semantic_type\": \"\",\n        \"description\": \"\"\n      }\n    },\n    {\n      \"column\": \"min\",\n      \"properties\": {\n        \"dtype\": \"number\",\n        \"std\": 1.4776125598546117,\n        \"min\": 0.0039215686274509,\n        \"max\": 87.66666666666667,\n        \"num_unique_values\": 262,\n        \"samples\": [\n          0.1564027370478983,\n          0.0274509803921568\n        ],\n        \"semantic_type\": \"\",\n        \"description\": \"\"\n      }\n    },\n    {\n      \"column\": \"25%\",\n      \"properties\": {\n        \"dtype\": \"number\",\n        \"std\": 1.8747328274185873,\n        \"min\": 0.34361451325398196,\n        \"max\": 109.32536764705881,\n        \"num_unique_values\": 1481,\n        \"samples\": [\n          0.4008423897418204,\n          0.42156862745098034\n        ],\n        \"semantic_type\": \"\",\n        \"description\": \"\"\n      }\n    },\n    {\n      \"column\": \"50%\",\n      \"properties\": {\n        \"dtype\": \"number\",\n        \"std\": 1.9891455937121496,\n        \"min\": 0.4745098039215686,\n        \"max\": 114.28458241793633,\n        \"num_unique_values\": 1815,\n        \"samples\": [\n          0.65792651371399,\n          0.6088954056695992\n        ],\n        \"semantic_type\": \"\",\n        \"description\": \"\"\n      }\n    },\n    {\n      \"column\": \"75%\",\n      \"properties\": {\n        \"dtype\": \"number\",\n        \"std\": 2.1287942448818953,\n        \"min\": 1.1358748778103618,\n        \"max\": 123.3813963963964,\n        \"num_unique_values\": 2476,\n        \"samples\": [\n          1.6260997067448681,\n          1.6111925708699901\n        ],\n        \"semantic_type\": \"\",\n        \"description\": \"\"\n      }\n    },\n    {\n      \"column\": \"max\",\n      \"properties\": {\n        \"dtype\": \"number\",\n        \"std\": 2.7536458605914795,\n        \"min\": 2.222873900293255,\n        \"max\": 164.57762112019037,\n        \"num_unique_values\": 830,\n        \"samples\": [\n          2.9501466275659824,\n          3.075268817204301\n        ],\n        \"semantic_type\": \"\",\n        \"description\": \"\"\n      }\n    }\n  ]\n}"
            }
          },
          "metadata": {},
          "execution_count": 78
        }
      ]
    },
    {
      "cell_type": "code",
      "source": [
        "# Statistik deskriptif\n",
        "descriptive_stats = df['Mean_NBP_Sys'].describe()\n",
        "print(descriptive_stats)"
      ],
      "metadata": {
        "colab": {
          "base_uri": "https://localhost:8080/"
        },
        "id": "Rw-ycd5jfxnI",
        "outputId": "857bb0fa-2633-45b6-dda4-0eb79eb55422"
      },
      "execution_count": null,
      "outputs": [
        {
          "output_type": "stream",
          "name": "stdout",
          "text": [
            "count     54.000000\n",
            "mean     116.362132\n",
            "std       13.076672\n",
            "min       87.666667\n",
            "25%      109.325368\n",
            "50%      114.284582\n",
            "75%      123.381396\n",
            "max      164.577621\n",
            "Name: Mean_NBP_Sys, dtype: float64\n"
          ]
        }
      ]
    },
    {
      "cell_type": "code",
      "source": [
        "# Statistik deskriptif\n",
        "descriptive_stats = df['Mean_NBP_Dias'].describe()\n",
        "print(descriptive_stats)"
      ],
      "metadata": {
        "colab": {
          "base_uri": "https://localhost:8080/"
        },
        "id": "P39-SkkXf6-M",
        "outputId": "242ffa53-71a4-4623-e755-4f9c9b549649"
      },
      "execution_count": null,
      "outputs": [
        {
          "output_type": "stream",
          "name": "stdout",
          "text": [
            "count    54.000000\n",
            "mean     60.156387\n",
            "std       9.340074\n",
            "min      39.291667\n",
            "25%      54.346999\n",
            "50%      61.592166\n",
            "75%      65.464487\n",
            "max      77.899401\n",
            "Name: Mean_NBP_Dias, dtype: float64\n"
          ]
        }
      ]
    },
    {
      "cell_type": "markdown",
      "source": [
        "# DATA PreProcessing"
      ],
      "metadata": {
        "id": "Bp2EoDmnfq7z"
      }
    },
    {
      "cell_type": "markdown",
      "source": [
        "## Data Cleaning"
      ],
      "metadata": {
        "id": "YNpXp5opE_kR"
      }
    },
    {
      "cell_type": "markdown",
      "source": [
        "### Missing Value"
      ],
      "metadata": {
        "id": "xiMilQNsgRfD"
      }
    },
    {
      "cell_type": "code",
      "source": [
        "print(df.isnull().sum())"
      ],
      "metadata": {
        "colab": {
          "base_uri": "https://localhost:8080/"
        },
        "id": "mlMsRRIfevjY",
        "outputId": "e9916a45-5b15-4c56-ef19-4176893c9c05"
      },
      "execution_count": null,
      "outputs": [
        {
          "output_type": "stream",
          "name": "stdout",
          "text": [
            "0                0\n",
            "1                0\n",
            "2                0\n",
            "3                0\n",
            "4                0\n",
            "                ..\n",
            "4197             0\n",
            "4198             0\n",
            "4199             0\n",
            "Mean_NBP_Sys     0\n",
            "Mean_NBP_Dias    0\n",
            "Length: 4202, dtype: int64\n"
          ]
        }
      ]
    },
    {
      "cell_type": "markdown",
      "source": [
        "###Duplicate Value"
      ],
      "metadata": {
        "id": "4vkwqJnrgU5-"
      }
    },
    {
      "cell_type": "code",
      "source": [
        "print(df.duplicated().sum())"
      ],
      "metadata": {
        "colab": {
          "base_uri": "https://localhost:8080/"
        },
        "id": "wbksBFClexkS",
        "outputId": "64a629a4-4898-412d-ff36-984fc78ce6e0"
      },
      "execution_count": null,
      "outputs": [
        {
          "output_type": "stream",
          "name": "stdout",
          "text": [
            "0\n"
          ]
        }
      ]
    },
    {
      "cell_type": "markdown",
      "source": [
        "### Handling Outlier"
      ],
      "metadata": {
        "id": "z0MpmxTlgeBP"
      }
    },
    {
      "cell_type": "code",
      "source": [
        "df_outlier = df"
      ],
      "metadata": {
        "id": "N1cDjltngth-"
      },
      "execution_count": null,
      "outputs": []
    },
    {
      "cell_type": "markdown",
      "source": [
        "#### Cek outlier"
      ],
      "metadata": {
        "id": "eezA3RDZFHJ6"
      }
    },
    {
      "cell_type": "code",
      "source": [
        "def cekoutlier(data):\n",
        "  Q1 = data.quantile(0.25)\n",
        "  Q3 = data.quantile(0.75)\n",
        "  IQR = Q3 - Q1\n",
        "  outlier = ((data < (Q1 - 1.5 * IQR)) | (data > (Q3 + 1.5 * IQR)))\n",
        "  return outlier"
      ],
      "metadata": {
        "id": "v3gNMfwnglje"
      },
      "execution_count": null,
      "outputs": []
    },
    {
      "cell_type": "code",
      "source": [
        "#cek jumlah outlier pada setiap kolom\n",
        "cekoutlier(df_outlier).sum()"
      ],
      "metadata": {
        "colab": {
          "base_uri": "https://localhost:8080/"
        },
        "id": "71VSLqWngpfL",
        "outputId": "5240fcf3-3eb2-451a-99a5-ec2af95a4c5c"
      },
      "execution_count": null,
      "outputs": [
        {
          "output_type": "execute_result",
          "data": {
            "text/plain": [
              "0                0\n",
              "1                0\n",
              "2                0\n",
              "3                0\n",
              "4                0\n",
              "                ..\n",
              "4197             1\n",
              "4198             1\n",
              "4199             1\n",
              "Mean_NBP_Sys     3\n",
              "Mean_NBP_Dias    0\n",
              "Length: 4202, dtype: int64"
            ]
          },
          "metadata": {},
          "execution_count": 31
        }
      ]
    },
    {
      "cell_type": "markdown",
      "source": [
        "#### Handling outlier"
      ],
      "metadata": {
        "id": "JN5IXl0RFKZx"
      }
    },
    {
      "cell_type": "code",
      "source": [
        "# Hitung IQR\n",
        "Q1 = df_outlier['Mean_NBP_Sys'].quantile(0.25)\n",
        "Q3 = df_outlier['Mean_NBP_Sys'].quantile(0.75)\n",
        "IQR = Q3 - Q1\n",
        "\n",
        "lower_bound = Q1 - 1.5 * IQR\n",
        "upper_bound = Q3 + 1.5 * IQR\n",
        "\n",
        "df_outlier = df_outlier[(df_outlier['Mean_NBP_Sys'] >= lower_bound) & (df_outlier['Mean_NBP_Sys'] <= upper_bound)]\n"
      ],
      "metadata": {
        "id": "ffoSp2kmtTrQ"
      },
      "execution_count": null,
      "outputs": []
    },
    {
      "cell_type": "code",
      "source": [
        "cekoutlier(df_outlier).sum()"
      ],
      "metadata": {
        "colab": {
          "base_uri": "https://localhost:8080/"
        },
        "id": "_1wPXeHBt0ql",
        "outputId": "b231057a-b869-414d-fa52-94303002ce04"
      },
      "execution_count": null,
      "outputs": [
        {
          "output_type": "execute_result",
          "data": {
            "text/plain": [
              "0                0\n",
              "1                0\n",
              "2                0\n",
              "3                0\n",
              "4                0\n",
              "                ..\n",
              "4197             1\n",
              "4198             1\n",
              "4199             1\n",
              "Mean_NBP_Sys     0\n",
              "Mean_NBP_Dias    0\n",
              "Length: 4202, dtype: int64"
            ]
          },
          "metadata": {},
          "execution_count": 87
        }
      ]
    },
    {
      "cell_type": "code",
      "source": [
        "df_outlier['Mean_NBP_Sys'].hist()\n",
        "plt.show()"
      ],
      "metadata": {
        "colab": {
          "base_uri": "https://localhost:8080/",
          "height": 430
        },
        "id": "D6hQX1y7zSKd",
        "outputId": "0efdc48d-bb50-478b-e08f-846d8e3f1dd8"
      },
      "execution_count": null,
      "outputs": [
        {
          "output_type": "display_data",
          "data": {
            "text/plain": [
              "<Figure size 640x480 with 1 Axes>"
            ],
            "image/png": "[encoded data removed]"
          },
          "metadata": {}
        }
      ]
    },
    {
      "cell_type": "code",
      "source": [
        "df_outlier['Mean_NBP_Dias'].hist()\n",
        "plt.show()"
      ],
      "metadata": {
        "colab": {
          "base_uri": "https://localhost:8080/",
          "height": 430
        },
        "id": "SnF9n-f1zWrx",
        "outputId": "b2e48e4b-2a2d-459f-81a0-9ceae312b3f3"
      },
      "execution_count": null,
      "outputs": [
        {
          "output_type": "display_data",
          "data": {
            "text/plain": [
              "<Figure size 640x480 with 1 Axes>"
            ],
            "image/png": "[encoded data removed]"
          },
          "metadata": {}
        }
      ]
    },
    {
      "cell_type": "markdown",
      "source": [
        "#Data Split"
      ],
      "metadata": {
        "id": "K9GdcYmuucbS"
      }
    },
    {
      "cell_type": "code",
      "source": [
        "data_train = df_outlier"
      ],
      "metadata": {
        "id": "XaBww2cYvGg5"
      },
      "execution_count": null,
      "outputs": []
    },
    {
      "cell_type": "code",
      "source": [
        "data_train.describe()"
      ],
      "metadata": {
        "colab": {
          "base_uri": "https://localhost:8080/",
          "height": 350
        },
        "id": "DPYj0LjC4tNK",
        "outputId": "de07d4ba-cd12-472c-faa7-0846b9d4c098"
      },
      "execution_count": null,
      "outputs": [
        {
          "output_type": "execute_result",
          "data": {
            "text/plain": [
              "               0          1          2          3          4          5  \\\n",
              "count  51.000000  51.000000  51.000000  51.000000  51.000000  51.000000   \n",
              "mean    1.005883   1.004230   1.003786   1.004627   1.007157   1.010318   \n",
              "std     0.768413   0.765454   0.762812   0.760459   0.759144   0.759694   \n",
              "min     0.164223   0.161290   0.159335   0.157380   0.155425   0.153470   \n",
              "25%     0.395009   0.398039   0.396078   0.388149   0.392157   0.396078   \n",
              "50%     0.635294   0.627566   0.614858   0.600196   0.583578   0.565982   \n",
              "75%     1.527859   1.570870   1.582600   1.564027   1.556696   1.610459   \n",
              "max     2.900293   2.920821   2.928641   2.923754   2.908113   2.882698   \n",
              "\n",
              "               6          7          8          9  ...       4192       4193  \\\n",
              "count  51.000000  51.000000  51.000000  51.000000  ...  51.000000  51.000000   \n",
              "mean    1.014592   1.019210   1.024117   1.028716  ...   0.968858   0.963796   \n",
              "std     0.762150   0.767663   0.774687   0.783127  ...   0.734715   0.730820   \n",
              "min     0.153470   0.153470   0.152493   0.151515  ...   0.134897   0.134897   \n",
              "25%     0.403922   0.396078   0.390196   0.390196  ...   0.394026   0.393048   \n",
              "50%     0.549020   0.560117   0.580645   0.599218  ...   0.576471   0.572549   \n",
              "75%     1.582111   1.552786   1.572336   1.585533  ...   1.374389   1.382209   \n",
              "max     2.847507   2.802542   2.747801   2.686217  ...   3.135875   3.149560   \n",
              "\n",
              "            4194       4195       4196       4197       4198       4199  \\\n",
              "count  51.000000  51.000000  51.000000  51.000000  51.000000  51.000000   \n",
              "mean    0.959154   0.955913   0.953265   0.950923   0.949405   0.948578   \n",
              "std     0.727691   0.724837   0.722680   0.721290   0.721244   0.722085   \n",
              "min     0.134897   0.134897   0.134897   0.133920   0.133920   0.133920   \n",
              "25%     0.392071   0.393451   0.394031   0.395992   0.399908   0.398919   \n",
              "50%     0.565982   0.564706   0.560784   0.556863   0.552941   0.541176   \n",
              "75%     1.398827   1.432551   1.453079   1.478983   1.476051   1.465298   \n",
              "max     3.165200   3.177908   3.184751   3.183773   3.173998   3.154448   \n",
              "\n",
              "       Mean_NBP_Sys  Mean_NBP_Dias  \n",
              "count     51.000000      51.000000  \n",
              "mean     115.426062      60.400387  \n",
              "std       10.073501       9.109761  \n",
              "min       93.423299      39.426504  \n",
              "25%      109.650735      54.371683  \n",
              "50%      113.842102      61.554562  \n",
              "75%      123.177778      65.645250  \n",
              "max      139.349820      77.899401  \n",
              "\n",
              "[8 rows x 4202 columns]"
            ],
            "text/html": [
              "\n",
              "  <div id=\"df-64273671-0817-4a04-b803-55f7479764ec\" class=\"colab-df-container\">\n",
              "    <div>\n",
              "<style scoped>\n",
              "    .dataframe tbody tr th:only-of-type {\n",
              "        vertical-align: middle;\n",
              "    }\n",
              "\n",
              "    .dataframe tbody tr th {\n",
              "        vertical-align: top;\n",
              "    }\n",
              "\n",
              "    .dataframe thead th {\n",
              "        text-align: right;\n",
              "    }\n",
              "</style>\n",
              "<table border=\"1\" class=\"dataframe\">\n",
              "  <thead>\n",
              "    <tr style=\"text-align: right;\">\n",
              "      <th></th>\n",
              "      <th>0</th>\n",
              "      <th>1</th>\n",
              "      <th>2</th>\n",
              "      <th>3</th>\n",
              "      <th>4</th>\n",
              "      <th>5</th>\n",
              "      <th>6</th>\n",
              "      <th>7</th>\n",
              "      <th>8</th>\n",
              "      <th>9</th>\n",
              "      <th>...</th>\n",
              "      <th>4192</th>\n",
              "      <th>4193</th>\n",
              "      <th>4194</th>\n",
              "      <th>4195</th>\n",
              "      <th>4196</th>\n",
              "      <th>4197</th>\n",
              "      <th>4198</th>\n",
              "      <th>4199</th>\n",
              "      <th>Mean_NBP_Sys</th>\n",
              "      <th>Mean_NBP_Dias</th>\n",
              "    </tr>\n",
              "  </thead>\n",
              "  <tbody>\n",
              "    <tr>\n",
              "      <th>count</th>\n",
              "      <td>51.000000</td>\n",
              "      <td>51.000000</td>\n",
              "      <td>51.000000</td>\n",
              "      <td>51.000000</td>\n",
              "      <td>51.000000</td>\n",
              "      <td>51.000000</td>\n",
              "      <td>51.000000</td>\n",
              "      <td>51.000000</td>\n",
              "      <td>51.000000</td>\n",
              "      <td>51.000000</td>\n",
              "      <td>...</td>\n",
              "      <td>51.000000</td>\n",
              "      <td>51.000000</td>\n",
              "      <td>51.000000</td>\n",
              "      <td>51.000000</td>\n",
              "      <td>51.000000</td>\n",
              "      <td>51.000000</td>\n",
              "      <td>51.000000</td>\n",
              "      <td>51.000000</td>\n",
              "      <td>51.000000</td>\n",
              "      <td>51.000000</td>\n",
              "    </tr>\n",
              "    <tr>\n",
              "      <th>mean</th>\n",
              "      <td>1.005883</td>\n",
              "      <td>1.004230</td>\n",
              "      <td>1.003786</td>\n",
              "      <td>1.004627</td>\n",
              "      <td>1.007157</td>\n",
              "      <td>1.010318</td>\n",
              "      <td>1.014592</td>\n",
              "      <td>1.019210</td>\n",
              "      <td>1.024117</td>\n",
              "      <td>1.028716</td>\n",
              "      <td>...</td>\n",
              "      <td>0.968858</td>\n",
              "      <td>0.963796</td>\n",
              "      <td>0.959154</td>\n",
              "      <td>0.955913</td>\n",
              "      <td>0.953265</td>\n",
              "      <td>0.950923</td>\n",
              "      <td>0.949405</td>\n",
              "      <td>0.948578</td>\n",
              "      <td>115.426062</td>\n",
              "      <td>60.400387</td>\n",
              "    </tr>\n",
              "    <tr>\n",
              "      <th>std</th>\n",
              "      <td>0.768413</td>\n",
              "      <td>0.765454</td>\n",
              "      <td>0.762812</td>\n",
              "      <td>0.760459</td>\n",
              "      <td>0.759144</td>\n",
              "      <td>0.759694</td>\n",
              "      <td>0.762150</td>\n",
              "      <td>0.767663</td>\n",
              "      <td>0.774687</td>\n",
              "      <td>0.783127</td>\n",
              "      <td>...</td>\n",
              "      <td>0.734715</td>\n",
              "      <td>0.730820</td>\n",
              "      <td>0.727691</td>\n",
              "      <td>0.724837</td>\n",
              "      <td>0.722680</td>\n",
              "      <td>0.721290</td>\n",
              "      <td>0.721244</td>\n",
              "      <td>0.722085</td>\n",
              "      <td>10.073501</td>\n",
              "      <td>9.109761</td>\n",
              "    </tr>\n",
              "    <tr>\n",
              "      <th>min</th>\n",
              "      <td>0.164223</td>\n",
              "      <td>0.161290</td>\n",
              "      <td>0.159335</td>\n",
              "      <td>0.157380</td>\n",
              "      <td>0.155425</td>\n",
              "      <td>0.153470</td>\n",
              "      <td>0.153470</td>\n",
              "      <td>0.153470</td>\n",
              "      <td>0.152493</td>\n",
              "      <td>0.151515</td>\n",
              "      <td>...</td>\n",
              "      <td>0.134897</td>\n",
              "      <td>0.134897</td>\n",
              "      <td>0.134897</td>\n",
              "      <td>0.134897</td>\n",
              "      <td>0.134897</td>\n",
              "      <td>0.133920</td>\n",
              "      <td>0.133920</td>\n",
              "      <td>0.133920</td>\n",
              "      <td>93.423299</td>\n",
              "      <td>39.426504</td>\n",
              "    </tr>\n",
              "    <tr>\n",
              "      <th>25%</th>\n",
              "      <td>0.395009</td>\n",
              "      <td>0.398039</td>\n",
              "      <td>0.396078</td>\n",
              "      <td>0.388149</td>\n",
              "      <td>0.392157</td>\n",
              "      <td>0.396078</td>\n",
              "      <td>0.403922</td>\n",
              "      <td>0.396078</td>\n",
              "      <td>0.390196</td>\n",
              "      <td>0.390196</td>\n",
              "      <td>...</td>\n",
              "      <td>0.394026</td>\n",
              "      <td>0.393048</td>\n",
              "      <td>0.392071</td>\n",
              "      <td>0.393451</td>\n",
              "      <td>0.394031</td>\n",
              "      <td>0.395992</td>\n",
              "      <td>0.399908</td>\n",
              "      <td>0.398919</td>\n",
              "      <td>109.650735</td>\n",
              "      <td>54.371683</td>\n",
              "    </tr>\n",
              "    <tr>\n",
              "      <th>50%</th>\n",
              "      <td>0.635294</td>\n",
              "      <td>0.627566</td>\n",
              "      <td>0.614858</td>\n",
              "      <td>0.600196</td>\n",
              "      <td>0.583578</td>\n",
              "      <td>0.565982</td>\n",
              "      <td>0.549020</td>\n",
              "      <td>0.560117</td>\n",
              "      <td>0.580645</td>\n",
              "      <td>0.599218</td>\n",
              "      <td>...</td>\n",
              "      <td>0.576471</td>\n",
              "      <td>0.572549</td>\n",
              "      <td>0.565982</td>\n",
              "      <td>0.564706</td>\n",
              "      <td>0.560784</td>\n",
              "      <td>0.556863</td>\n",
              "      <td>0.552941</td>\n",
              "      <td>0.541176</td>\n",
              "      <td>113.842102</td>\n",
              "      <td>61.554562</td>\n",
              "    </tr>\n",
              "    <tr>\n",
              "      <th>75%</th>\n",
              "      <td>1.527859</td>\n",
              "      <td>1.570870</td>\n",
              "      <td>1.582600</td>\n",
              "      <td>1.564027</td>\n",
              "      <td>1.556696</td>\n",
              "      <td>1.610459</td>\n",
              "      <td>1.582111</td>\n",
              "      <td>1.552786</td>\n",
              "      <td>1.572336</td>\n",
              "      <td>1.585533</td>\n",
              "      <td>...</td>\n",
              "      <td>1.374389</td>\n",
              "      <td>1.382209</td>\n",
              "      <td>1.398827</td>\n",
              "      <td>1.432551</td>\n",
              "      <td>1.453079</td>\n",
              "      <td>1.478983</td>\n",
              "      <td>1.476051</td>\n",
              "      <td>1.465298</td>\n",
              "      <td>123.177778</td>\n",
              "      <td>65.645250</td>\n",
              "    </tr>\n",
              "    <tr>\n",
              "      <th>max</th>\n",
              "      <td>2.900293</td>\n",
              "      <td>2.920821</td>\n",
              "      <td>2.928641</td>\n",
              "      <td>2.923754</td>\n",
              "      <td>2.908113</td>\n",
              "      <td>2.882698</td>\n",
              "      <td>2.847507</td>\n",
              "      <td>2.802542</td>\n",
              "      <td>2.747801</td>\n",
              "      <td>2.686217</td>\n",
              "      <td>...</td>\n",
              "      <td>3.135875</td>\n",
              "      <td>3.149560</td>\n",
              "      <td>3.165200</td>\n",
              "      <td>3.177908</td>\n",
              "      <td>3.184751</td>\n",
              "      <td>3.183773</td>\n",
              "      <td>3.173998</td>\n",
              "      <td>3.154448</td>\n",
              "      <td>139.349820</td>\n",
              "      <td>77.899401</td>\n",
              "    </tr>\n",
              "  </tbody>\n",
              "</table>\n",
              "<p>8 rows × 4202 columns</p>\n",
              "</div>\n",
              "    <div class=\"colab-df-buttons\">\n",
              "\n",
              "  <div class=\"colab-df-container\">\n",
              "    <button class=\"colab-df-convert\" onclick=\"convertToInteractive('df-64273671-0817-4a04-b803-55f7479764ec')\"\n",
              "            title=\"Convert this dataframe to an interactive table.\"\n",
              "            style=\"display:none;\">\n",
              "\n",
              "  <svg xmlns=\"http://www.w3.org/2000/svg\" height=\"24px\" viewBox=\"0 -960 960 960\">\n",
              "    <path d=\"M120-120v-720h720v720H120Zm60-500h600v-160H180v160Zm220 220h160v-160H400v160Zm0 220h160v-160H400v160ZM180-400h160v-160H180v160Zm440 0h160v-160H620v160ZM180-180h160v-160H180v160Zm440 0h160v-160H620v160Z\"/>\n",
              "  </svg>\n",
              "    </button>\n",
              "\n",
              "  <style>\n",
              "    .colab-df-container {\n",
              "      display:flex;\n",
              "      gap: 12px;\n",
              "    }\n",
              "\n",
              "    .colab-df-convert {\n",
              "      background-color: #E8F0FE;\n",
              "      border: none;\n",
              "      border-radius: 50%;\n",
              "      cursor: pointer;\n",
              "      display: none;\n",
              "      fill: #1967D2;\n",
              "      height: 32px;\n",
              "      padding: 0 0 0 0;\n",
              "      width: 32px;\n",
              "    }\n",
              "\n",
              "    .colab-df-convert:hover {\n",
              "      background-color: #E2EBFA;\n",
              "      box-shadow: 0px 1px 2px rgba(60, 64, 67, 0.3), 0px 1px 3px 1px rgba(60, 64, 67, 0.15);\n",
              "      fill: #174EA6;\n",
              "    }\n",
              "\n",
              "    .colab-df-buttons div {\n",
              "      margin-bottom: 4px;\n",
              "    }\n",
              "\n",
              "    [theme=dark] .colab-df-convert {\n",
              "      background-color: #3B4455;\n",
              "      fill: #D2E3FC;\n",
              "    }\n",
              "\n",
              "    [theme=dark] .colab-df-convert:hover {\n",
              "      background-color: #434B5C;\n",
              "      box-shadow: 0px 1px 3px 1px rgba(0, 0, 0, 0.15);\n",
              "      filter: drop-shadow(0px 1px 2px rgba(0, 0, 0, 0.3));\n",
              "      fill: #FFFFFF;\n",
              "    }\n",
              "  </style>\n",
              "\n",
              "    <script>\n",
              "      const buttonEl =\n",
              "        document.querySelector('#df-64273671-0817-4a04-b803-55f7479764ec button.colab-df-convert');\n",
              "      buttonEl.style.display =\n",
              "        google.colab.kernel.accessAllowed ? 'block' : 'none';\n",
              "\n",
              "      async function convertToInteractive(key) {\n",
              "        const element = document.querySelector('#df-64273671-0817-4a04-b803-55f7479764ec');\n",
              "        const dataTable =\n",
              "          await google.colab.kernel.invokeFunction('convertToInteractive',\n",
              "                                                    [key], {});\n",
              "        if (!dataTable) return;\n",
              "\n",
              "        const docLinkHtml = 'Like what you see? Visit the ' +\n",
              "          '<a target=\"_blank\" href=https://colab.research.google.com/notebooks/data_table.ipynb>data table notebook</a>'\n",
              "          + ' to learn more about interactive tables.';\n",
              "        element.innerHTML = '';\n",
              "        dataTable['output_type'] = 'display_data';\n",
              "        await google.colab.output.renderOutput(dataTable, element);\n",
              "        const docLink = document.createElement('div');\n",
              "        docLink.innerHTML = docLinkHtml;\n",
              "        element.appendChild(docLink);\n",
              "      }\n",
              "    </script>\n",
              "  </div>\n",
              "\n",
              "\n",
              "<div id=\"df-a6a45eeb-89d4-46df-a552-7520e59bc25c\">\n",
              "  <button class=\"colab-df-quickchart\" onclick=\"quickchart('df-a6a45eeb-89d4-46df-a552-7520e59bc25c')\"\n",
              "            title=\"Suggest charts\"\n",
              "            style=\"display:none;\">\n",
              "\n",
              "<svg xmlns=\"http://www.w3.org/2000/svg\" height=\"24px\"viewBox=\"0 0 24 24\"\n",
              "     width=\"24px\">\n",
              "    <g>\n",
              "        <path d=\"M19 3H5c-1.1 0-2 .9-2 2v14c0 1.1.9 2 2 2h14c1.1 0 2-.9 2-2V5c0-1.1-.9-2-2-2zM9 17H7v-7h2v7zm4 0h-2V7h2v10zm4 0h-2v-4h2v4z\"/>\n",
              "    </g>\n",
              "</svg>\n",
              "  </button>\n",
              "\n",
              "<style>\n",
              "  .colab-df-quickchart {\n",
              "      --bg-color: #E8F0FE;\n",
              "      --fill-color: #1967D2;\n",
              "      --hover-bg-color: #E2EBFA;\n",
              "      --hover-fill-color: #174EA6;\n",
              "      --disabled-fill-color: #AAA;\n",
              "      --disabled-bg-color: #DDD;\n",
              "  }\n",
              "\n",
              "  [theme=dark] .colab-df-quickchart {\n",
              "      --bg-color: #3B4455;\n",
              "      --fill-color: #D2E3FC;\n",
              "      --hover-bg-color: #434B5C;\n",
              "      --hover-fill-color: #FFFFFF;\n",
              "      --disabled-bg-color: #3B4455;\n",
              "      --disabled-fill-color: #666;\n",
              "  }\n",
              "\n",
              "  .colab-df-quickchart {\n",
              "    background-color: var(--bg-color);\n",
              "    border: none;\n",
              "    border-radius: 50%;\n",
              "    cursor: pointer;\n",
              "    display: none;\n",
              "    fill: var(--fill-color);\n",
              "    height: 32px;\n",
              "    padding: 0;\n",
              "    width: 32px;\n",
              "  }\n",
              "\n",
              "  .colab-df-quickchart:hover {\n",
              "    background-color: var(--hover-bg-color);\n",
              "    box-shadow: 0 1px 2px rgba(60, 64, 67, 0.3), 0 1px 3px 1px rgba(60, 64, 67, 0.15);\n",
              "    fill: var(--button-hover-fill-color);\n",
              "  }\n",
              "\n",
              "  .colab-df-quickchart-complete:disabled,\n",
              "  .colab-df-quickchart-complete:disabled:hover {\n",
              "    background-color: var(--disabled-bg-color);\n",
              "    fill: var(--disabled-fill-color);\n",
              "    box-shadow: none;\n",
              "  }\n",
              "\n",
              "  .colab-df-spinner {\n",
              "    border: 2px solid var(--fill-color);\n",
              "    border-color: transparent;\n",
              "    border-bottom-color: var(--fill-color);\n",
              "    animation:\n",
              "      spin 1s steps(1) infinite;\n",
              "  }\n",
              "\n",
              "  @keyframes spin {\n",
              "    0% {\n",
              "      border-color: transparent;\n",
              "      border-bottom-color: var(--fill-color);\n",
              "      border-left-color: var(--fill-color);\n",
              "    }\n",
              "    20% {\n",
              "      border-color: transparent;\n",
              "      border-left-color: var(--fill-color);\n",
              "      border-top-color: var(--fill-color);\n",
              "    }\n",
              "    30% {\n",
              "      border-color: transparent;\n",
              "      border-left-color: var(--fill-color);\n",
              "      border-top-color: var(--fill-color);\n",
              "      border-right-color: var(--fill-color);\n",
              "    }\n",
              "    40% {\n",
              "      border-color: transparent;\n",
              "      border-right-color: var(--fill-color);\n",
              "      border-top-color: var(--fill-color);\n",
              "    }\n",
              "    60% {\n",
              "      border-color: transparent;\n",
              "      border-right-color: var(--fill-color);\n",
              "    }\n",
              "    80% {\n",
              "      border-color: transparent;\n",
              "      border-right-color: var(--fill-color);\n",
              "      border-bottom-color: var(--fill-color);\n",
              "    }\n",
              "    90% {\n",
              "      border-color: transparent;\n",
              "      border-bottom-color: var(--fill-color);\n",
              "    }\n",
              "  }\n",
              "</style>\n",
              "\n",
              "  <script>\n",
              "    async function quickchart(key) {\n",
              "      const quickchartButtonEl =\n",
              "        document.querySelector('#' + key + ' button');\n",
              "      quickchartButtonEl.disabled = true;  // To prevent multiple clicks.\n",
              "      quickchartButtonEl.classList.add('colab-df-spinner');\n",
              "      try {\n",
              "        const charts = await google.colab.kernel.invokeFunction(\n",
              "            'suggestCharts', [key], {});\n",
              "      } catch (error) {\n",
              "        console.error('Error during call to suggestCharts:', error);\n",
              "      }\n",
              "      quickchartButtonEl.classList.remove('colab-df-spinner');\n",
              "      quickchartButtonEl.classList.add('colab-df-quickchart-complete');\n",
              "    }\n",
              "    (() => {\n",
              "      let quickchartButtonEl =\n",
              "        document.querySelector('#df-a6a45eeb-89d4-46df-a552-7520e59bc25c button');\n",
              "      quickchartButtonEl.style.display =\n",
              "        google.colab.kernel.accessAllowed ? 'block' : 'none';\n",
              "    })();\n",
              "  </script>\n",
              "</div>\n",
              "    </div>\n",
              "  </div>\n"
            ],
            "application/vnd.google.colaboratory.intrinsic+json": {
              "type": "dataframe"
            }
          },
          "metadata": {},
          "execution_count": 94
        }
      ]
    },
    {
      "cell_type": "code",
      "source": [
        "X = data_train[['Mean_NBP_Sys', 'Mean_NBP_Dias']]\n",
        "y_systolic = data_train['Mean_NBP_Sys']\n",
        "y_diastolic = data_train['Mean_NBP_Dias']"
      ],
      "metadata": {
        "id": "nUnNxyAPunY8"
      },
      "execution_count": null,
      "outputs": []
    },
    {
      "cell_type": "code",
      "source": [
        "from sklearn.impute import SimpleImputer\n",
        "from sklearn.preprocessing import StandardScaler\n",
        "\n",
        "imputer = SimpleImputer(strategy='mean')\n",
        "\n",
        "X = imputer.fit_transform(X)\n",
        "X_train, X_test, y_systolic_train, y_systolic_test, y_diastolic_train, y_diastolic_test = train_test_split(X, y_systolic, y_diastolic, test_size=0.2, random_state=42)\n",
        "\n",
        "scaler = StandardScaler()\n",
        "X_train = scaler.fit_transform(X_train)\n",
        "X_test = scaler.transform(X_test)"
      ],
      "metadata": {
        "id": "ZkkSsklwyzHV"
      },
      "execution_count": null,
      "outputs": []
    },
    {
      "cell_type": "markdown",
      "source": [
        "#MODEL"
      ],
      "metadata": {
        "id": "P8rG9fBvwZs6"
      }
    },
    {
      "cell_type": "markdown",
      "source": [
        "## Linier Regresion"
      ],
      "metadata": {
        "id": "UEmf94Xq515Y"
      }
    },
    {
      "cell_type": "code",
      "source": [
        "from sklearn.linear_model import LinearRegression\n",
        "\n",
        "lr_systolic = LinearRegression()\n",
        "lr_systolic.fit(X_train, y_systolic_train)\n",
        "\n",
        "lr_diastolic = LinearRegression()\n",
        "lr_diastolic.fit(X_train, y_diastolic_train)"
      ],
      "metadata": {
        "colab": {
          "base_uri": "https://localhost:8080/",
          "height": 75
        },
        "id": "ErY8smfA5j-F",
        "outputId": "c67a0414-bef9-414f-8cf0-ad1bae29f897"
      },
      "execution_count": null,
      "outputs": [
        {
          "output_type": "execute_result",
          "data": {
            "text/plain": [
              "LinearRegression()"
            ],
            "text/html": [
              "<style>#sk-container-id-2 {color: black;background-color: white;}#sk-container-id-2 pre{padding: 0;}#sk-container-id-2 div.sk-toggleable {background-color: white;}#sk-container-id-2 label.sk-toggleable__label {cursor: pointer;display: block;width: 100%;margin-bottom: 0;padding: 0.3em;box-sizing: border-box;text-align: center;}#sk-container-id-2 label.sk-toggleable__label-arrow:before {content: \"▸\";float: left;margin-right: 0.25em;color: #696969;}#sk-container-id-2 label.sk-toggleable__label-arrow:hover:before {color: black;}#sk-container-id-2 div.sk-estimator:hover label.sk-toggleable__label-arrow:before {color: black;}#sk-container-id-2 div.sk-toggleable__content {max-height: 0;max-width: 0;overflow: hidden;text-align: left;background-color: #f0f8ff;}#sk-container-id-2 div.sk-toggleable__content pre {margin: 0.2em;color: black;border-radius: 0.25em;background-color: #f0f8ff;}#sk-container-id-2 input.sk-toggleable__control:checked~div.sk-toggleable__content {max-height: 200px;max-width: 100%;overflow: auto;}#sk-container-id-2 input.sk-toggleable__control:checked~label.sk-toggleable__label-arrow:before {content: \"▾\";}#sk-container-id-2 div.sk-estimator input.sk-toggleable__control:checked~label.sk-toggleable__label {background-color: #d4ebff;}#sk-container-id-2 div.sk-label input.sk-toggleable__control:checked~label.sk-toggleable__label {background-color: #d4ebff;}#sk-container-id-2 input.sk-hidden--visually {border: 0;clip: rect(1px 1px 1px 1px);clip: rect(1px, 1px, 1px, 1px);height: 1px;margin: -1px;overflow: hidden;padding: 0;position: absolute;width: 1px;}#sk-container-id-2 div.sk-estimator {font-family: monospace;background-color: #f0f8ff;border: 1px dotted black;border-radius: 0.25em;box-sizing: border-box;margin-bottom: 0.5em;}#sk-container-id-2 div.sk-estimator:hover {background-color: #d4ebff;}#sk-container-id-2 div.sk-parallel-item::after {content: \"\";width: 100%;border-bottom: 1px solid gray;flex-grow: 1;}#sk-container-id-2 div.sk-label:hover label.sk-toggleable__label {background-color: #d4ebff;}#sk-container-id-2 div.sk-serial::before {content: \"\";position: absolute;border-left: 1px solid gray;box-sizing: border-box;top: 0;bottom: 0;left: 50%;z-index: 0;}#sk-container-id-2 div.sk-serial {display: flex;flex-direction: column;align-items: center;background-color: white;padding-right: 0.2em;padding-left: 0.2em;position: relative;}#sk-container-id-2 div.sk-item {position: relative;z-index: 1;}#sk-container-id-2 div.sk-parallel {display: flex;align-items: stretch;justify-content: center;background-color: white;position: relative;}#sk-container-id-2 div.sk-item::before, #sk-container-id-2 div.sk-parallel-item::before {content: \"\";position: absolute;border-left: 1px solid gray;box-sizing: border-box;top: 0;bottom: 0;left: 50%;z-index: -1;}#sk-container-id-2 div.sk-parallel-item {display: flex;flex-direction: column;z-index: 1;position: relative;background-color: white;}#sk-container-id-2 div.sk-parallel-item:first-child::after {align-self: flex-end;width: 50%;}#sk-container-id-2 div.sk-parallel-item:last-child::after {align-self: flex-start;width: 50%;}#sk-container-id-2 div.sk-parallel-item:only-child::after {width: 0;}#sk-container-id-2 div.sk-dashed-wrapped {border: 1px dashed gray;margin: 0 0.4em 0.5em 0.4em;box-sizing: border-box;padding-bottom: 0.4em;background-color: white;}#sk-container-id-2 div.sk-label label {font-family: monospace;font-weight: bold;display: inline-block;line-height: 1.2em;}#sk-container-id-2 div.sk-label-container {text-align: center;}#sk-container-id-2 div.sk-container {/* jupyter's `normalize.less` sets `[hidden] { display: none; }` but bootstrap.min.css set `[hidden] { display: none !important; }` so we also need the `!important` here to be able to override the default hidden behavior on the sphinx rendered scikit-learn.org. See: https://github.com/scikit-learn/scikit-learn/issues/21755 */display: inline-block !important;position: relative;}#sk-container-id-2 div.sk-text-repr-fallback {display: none;}</style><div id=\"sk-container-id-2\" class=\"sk-top-container\"><div class=\"sk-text-repr-fallback\"><pre>LinearRegression()</pre><b>In a Jupyter environment, please rerun this cell to show the HTML representation or trust the notebook. <br />On GitHub, the HTML representation is unable to render, please try loading this page with nbviewer.org.</b></div><div class=\"sk-container\" hidden><div class=\"sk-item\"><div class=\"sk-estimator sk-toggleable\"><input class=\"sk-toggleable__control sk-hidden--visually\" id=\"sk-estimator-id-2\" type=\"checkbox\" checked><label for=\"sk-estimator-id-2\" class=\"sk-toggleable__label sk-toggleable__label-arrow\">LinearRegression</label><div class=\"sk-toggleable__content\"><pre>LinearRegression()</pre></div></div></div></div></div>"
            ]
          },
          "metadata": {},
          "execution_count": 99
        }
      ]
    },
    {
      "cell_type": "code",
      "source": [
        "# Prediction\n",
        "y_systolic_pred_lr = lr_systolic.predict(X_test)\n",
        "y_diastolic_pred_lr = lr_diastolic.predict(X_test)"
      ],
      "metadata": {
        "id": "Ir9XcLEo5r-q"
      },
      "execution_count": null,
      "outputs": []
    },
    {
      "cell_type": "markdown",
      "source": [
        "### Evaluasi Systolic"
      ],
      "metadata": {
        "id": "XKS4LmwO7wX7"
      }
    },
    {
      "cell_type": "code",
      "source": [
        "from sklearn.metrics import mean_absolute_error, mean_squared_log_error, median_absolute_error\n",
        "\n",
        "#RMSE\n",
        "print(\"Linear Regression Systolic RMSE:\", np.sqrt(mean_squared_error(y_systolic_test, y_systolic_pred_lr)))\n",
        "\n",
        "#R2\n",
        "print(\"Linear Regression Systolic R2:\", r2_score(y_systolic_test, y_systolic_pred_lr))\n",
        "\n",
        "# Mean Absolute Error (MAE)\n",
        "print(\"Linear Regression Systolic MAE:\", mean_absolute_error(y_systolic_test, y_systolic_pred_lr))\n",
        "\n",
        "# Mean Squared Logarithmic Error (MSLE)\n",
        "print(\"Linear Regression Systolic MSLE:\", mean_squared_log_error(y_systolic_test, y_systolic_pred_lr))\n",
        "\n",
        "# Mean Absolute Percentage Error (MAPE)\n",
        "mape_sys = np.mean(np.abs((y_systolic_test - y_systolic_pred_lr) / y_systolic_test)) * 100\n",
        "print(\"Linear Regression Systolic MAPE:\", mape_sys)\n",
        "\n",
        "# Median Absolute Error (MedAE)\n",
        "print(\"Linear Regression Systolic MedAE:\", median_absolute_error(y_systolic_test, y_systolic_pred_lr))"
      ],
      "metadata": {
        "colab": {
          "base_uri": "https://localhost:8080/"
        },
        "id": "w18zyHi76A5r",
        "outputId": "e43322a1-0ec3-48f6-9519-82bdc917d259"
      },
      "execution_count": null,
      "outputs": [
        {
          "output_type": "stream",
          "name": "stdout",
          "text": [
            "Linear Regression Systolic RMSE: 1.4842753667696044e-14\n",
            "Linear Regression Systolic R2: 1.0\n",
            "Linear Regression Systolic MAE: 1.2918958832001821e-14\n",
            "Linear Regression Systolic MSLE: 0.0\n",
            "Linear Regression Systolic MAPE: 1.1057362388726618e-14\n",
            "Linear Regression Systolic MedAE: 1.4210854715202004e-14\n"
          ]
        }
      ]
    },
    {
      "cell_type": "markdown",
      "source": [
        "### Evaluasi diastolic"
      ],
      "metadata": {
        "id": "XrtG_C6G7X_h"
      }
    },
    {
      "cell_type": "code",
      "source": [
        "from sklearn.metrics import mean_absolute_error, mean_squared_log_error, median_absolute_error\n",
        "\n",
        "#RMSE\n",
        "print(\"Linear Regression Diastolic RMSE:\", np.sqrt(mean_squared_error(y_diastolic_test, y_diastolic_pred_lr)))\n",
        "\n",
        "#R2\n",
        "print(\"Linear Regression Diastolic R2:\", r2_score(y_diastolic_test, y_diastolic_pred_lr))\n",
        "\n",
        "# Mean Absolute Error (MAE)\n",
        "print(\"Linear Regression Diastolic MAE:\", mean_absolute_error(y_diastolic_test, y_diastolic_pred_lr))\n",
        "\n",
        "# Mean Squared Logarithmic Error (MSLE)\n",
        "print(\"Linear Regression Diastolic MSLE:\", mean_squared_log_error(y_diastolic_test, y_diastolic_pred_lr))\n",
        "\n",
        "# Mean Absolute Percentage Error (MAPE)\n",
        "mape_sys = np.mean(np.abs((y_diastolic_test - y_diastolic_pred_lr) / y_diastolic_test)) * 100\n",
        "print(\"Linear Regression Diastolic MAPE:\", mape_sys)\n",
        "\n",
        "# Median Absolute Error (MedAE)\n",
        "print(\"Linear Regression Diastolic MedAE:\", median_absolute_error(y_diastolic_test, y_diastolic_pred_lr))"
      ],
      "metadata": {
        "colab": {
          "base_uri": "https://localhost:8080/"
        },
        "id": "hBClQPS87RaX",
        "outputId": "1d8f78c2-1ff4-4640-d60e-710c5d9a196e"
      },
      "execution_count": null,
      "outputs": [
        {
          "output_type": "stream",
          "name": "stdout",
          "text": [
            "Linear Regression Diastolic RMSE: 0.0\n",
            "Linear Regression Diastolic R2: 1.0\n",
            "Linear Regression Diastolic MAE: 0.0\n",
            "Linear Regression Diastolic MSLE: 0.0\n",
            "Linear Regression Diastolic MAPE: 0.0\n",
            "Linear Regression Diastolic MedAE: 0.0\n"
          ]
        }
      ]
    },
    {
      "cell_type": "markdown",
      "source": [
        "## Support Vector Regresor"
      ],
      "metadata": {
        "id": "aCQJWjI0EGIc"
      }
    },
    {
      "cell_type": "code",
      "source": [
        "from sklearn.svm import SVR\n",
        "\n",
        "# Model SVM untuk tekanan darah sistolik\n",
        "svm_systolic = SVR(kernel='linear')\n",
        "svm_systolic.fit(X_train, y_systolic_train)\n",
        "\n",
        "# Model SVM untuk tekanan darah diastolik\n",
        "svm_diastolic = SVR(kernel='linear')\n",
        "svm_diastolic.fit(X_train, y_diastolic_train)\n",
        "\n",
        "# Prediksi\n",
        "y_systolic_pred_svm = svm_systolic.predict(X_test)\n",
        "y_diastolic_pred_svm = svm_diastolic.predict(X_test)\n"
      ],
      "metadata": {
        "id": "8s_gfRJPEpWv"
      },
      "execution_count": null,
      "outputs": []
    },
    {
      "cell_type": "markdown",
      "source": [
        "### Evaluasi Systolic"
      ],
      "metadata": {
        "id": "yCQySOXdFRgi"
      }
    },
    {
      "cell_type": "code",
      "source": [
        "from sklearn.metrics import r2_score\n",
        "\n",
        "# RMSE\n",
        "print(\"SVM Systolic RMSE:\", np.sqrt(mean_squared_error(y_systolic_test, y_systolic_pred_svm)))\n",
        "\n",
        "# R2\n",
        "print(\"SVM Systolic R2:\", r2_score(y_systolic_test, y_systolic_pred_svm))\n",
        "\n",
        "# Mean Absolute Error (MAE)\n",
        "print(\"SVM Systolic MAE:\", mean_absolute_error(y_systolic_test, y_systolic_pred_svm))\n",
        "\n",
        "# Mean Squared Logarithmic Error (MSLE)\n",
        "print(\"SVM Systolic MSLE:\", mean_squared_log_error(y_systolic_test, y_systolic_pred_svm))\n",
        "\n",
        "# Mean Absolute Percentage Error (MAPE)\n",
        "mape_svm = np.mean(np.abs((y_systolic_test - y_systolic_pred_svm) / y_systolic_test)) * 100\n",
        "print(\"SVM Systolic MAPE:\", mape_svm)\n",
        "\n",
        "# Median Absolute Error (MedAE)\n",
        "print(\"SVM Systolic MedAE:\", median_absolute_error(y_systolic_test, y_systolic_pred_svm))\n"
      ],
      "metadata": {
        "colab": {
          "base_uri": "https://localhost:8080/"
        },
        "id": "4EGMQeT7FQ2L",
        "outputId": "aa96c94c-01bd-495e-88ac-84df8a248ce2"
      },
      "execution_count": null,
      "outputs": [
        {
          "output_type": "stream",
          "name": "stdout",
          "text": [
            "SVM Systolic RMSE: 0.06437425860758228\n",
            "SVM Systolic R2: 0.9999411908501604\n",
            "SVM Systolic MAE: 0.049582243963496614\n",
            "SVM Systolic MSLE: 3.544380124358821e-07\n",
            "SVM Systolic MAPE: 0.04510612652016786\n",
            "SVM Systolic MedAE: 0.032497298243058026\n"
          ]
        }
      ]
    },
    {
      "cell_type": "markdown",
      "source": [
        "### Evaluasi Diastolic"
      ],
      "metadata": {
        "id": "Y5uiZ91eFQrM"
      }
    },
    {
      "cell_type": "code",
      "source": [
        "# RMSE\n",
        "print(\"SVM Diastolic RMSE:\", np.sqrt(mean_squared_error(y_diastolic_test, y_diastolic_pred_svm)))\n",
        "\n",
        "# R2\n",
        "print(\"SVM Diastolicc R2:\", r2_score(y_diastolic_test, y_diastolic_pred_svm))\n",
        "\n",
        "# Mean Absolute Error (MAE)\n",
        "print(\"SVM Diastolic MAE:\", mean_absolute_error(y_diastolic_test, y_diastolic_pred_svm))\n",
        "\n",
        "# Mean Squared Logarithmic Error (MSLE)\n",
        "print(\"SVM Diastolic MSLE:\", mean_squared_log_error(y_diastolic_test, y_diastolic_pred_svm))\n",
        "\n",
        "# Mean Absolute Percentage Error (MAPE)\n",
        "mape_svm = np.mean(np.abs((y_diastolic_test - y_diastolic_pred_svm) / y_diastolic_test)) * 100\n",
        "print(\"SVM Diastolic MAPE:\", mape_svm)\n",
        "\n",
        "# Median Absolute Error (MedAE)\n",
        "print(\"SVM Diastolic MedAE:\", median_absolute_error(y_diastolic_test, y_diastolic_pred_svm))\n"
      ],
      "metadata": {
        "colab": {
          "base_uri": "https://localhost:8080/"
        },
        "id": "JTmoWHReExsl",
        "outputId": "cbf4b585-d6f6-4776-e0bb-4575b0f46a19"
      },
      "execution_count": null,
      "outputs": [
        {
          "output_type": "stream",
          "name": "stdout",
          "text": [
            "SVM Diastolic RMSE: 0.06762078091910442\n",
            "SVM Diastolicc R2: 0.9999123365208337\n",
            "SVM Diastolic MAE: 0.05476375784274203\n",
            "SVM Diastolic MSLE: 1.5377836037181148e-06\n",
            "SVM Diastolic MAPE: 0.10009656876396811\n",
            "SVM Diastolic MedAE: 0.05134026777218281\n"
          ]
        }
      ]
    },
    {
      "cell_type": "markdown",
      "source": [
        "## Decision Tree\n"
      ],
      "metadata": {
        "id": "HOcBkh4IH1Uz"
      }
    },
    {
      "cell_type": "code",
      "source": [
        "from sklearn.tree import DecisionTreeRegressor\n",
        "\n",
        "# Model Decision Tree untuk tekanan darah sistolik\n",
        "dt_systolic = DecisionTreeRegressor(random_state=42)\n",
        "dt_systolic.fit(X_train, y_systolic_train)\n",
        "\n",
        "# Model Decision Tree untuk tekanan darah diastolik\n",
        "dt_diastolic = DecisionTreeRegressor(random_state=42)\n",
        "dt_diastolic.fit(X_train, y_diastolic_train)\n",
        "\n",
        "# Prediksi\n",
        "y_systolic_pred_dt = dt_systolic.predict(X_test)\n",
        "y_diastolic_pred_dt = dt_diastolic.predict(X_test)\n"
      ],
      "metadata": {
        "id": "9Y1Pjk41I0Z8"
      },
      "execution_count": null,
      "outputs": []
    },
    {
      "cell_type": "markdown",
      "source": [
        "### Evaluasi Systolic"
      ],
      "metadata": {
        "id": "58XSoAnAIHuf"
      }
    },
    {
      "cell_type": "code",
      "source": [
        "# Evaluasi metrik untuk tekanan darah sistolik dengan model Decision Tree\n",
        "print(\"Decision Tree Regression Systolic RMSE:\", np.sqrt(mean_squared_error(y_systolic_test, y_systolic_pred_dt)))\n",
        "print(\"Decision Tree Regression Systolic R2:\", r2_score(y_systolic_test, y_systolic_pred_dt))\n",
        "print(\"Decision Tree Regression Systolic MAE:\", mean_absolute_error(y_systolic_test, y_systolic_pred_dt))\n",
        "print(\"Decision Tree Regression Systolic MSLE:\", mean_squared_log_error(y_systolic_test, y_systolic_pred_dt))\n",
        "mape_systolic_dt = np.mean(np.abs((y_systolic_test - y_systolic_pred_dt) / y_systolic_test)) * 100\n",
        "print(\"Decision Tree Regression Systolic MAPE:\", mape_systolic_dt)\n",
        "print(\"Decision Tree Regression Systolic MedAE:\", median_absolute_error(y_systolic_test, y_systolic_pred_dt))\n",
        "\n"
      ],
      "metadata": {
        "colab": {
          "base_uri": "https://localhost:8080/"
        },
        "id": "GHZuw-zdI8Ka",
        "outputId": "15486611-8cb6-4cb0-e059-694e4e56fe00"
      },
      "execution_count": null,
      "outputs": [
        {
          "output_type": "stream",
          "name": "stdout",
          "text": [
            "Decision Tree Regression Systolic RMSE: 0.5837560642592371\n",
            "Decision Tree Regression Systolic R2: 0.9951640340885572\n",
            "Decision Tree Regression Systolic MAE: 0.4300866039394926\n",
            "Decision Tree Regression Systolic MSLE: 2.811101064595344e-05\n",
            "Decision Tree Regression Systolic MAPE: 0.3842450082490113\n",
            "Decision Tree Regression Systolic MedAE: 0.2375551903990214\n"
          ]
        }
      ]
    },
    {
      "cell_type": "markdown",
      "source": [
        "### Evaluasi Diastolic"
      ],
      "metadata": {
        "id": "0YKWPCPYJGfk"
      }
    },
    {
      "cell_type": "code",
      "source": [
        "\n",
        "# Evaluasi metrik untuk tekanan darah diastolik dengan model Decision Tree\n",
        "print(\"Decision Tree Regression Diastolic RMSE:\", np.sqrt(mean_squared_error(y_diastolic_test, y_diastolic_pred_dt)))\n",
        "print(\"Decision Tree Regression Diastolic R2:\", r2_score(y_diastolic_test, y_diastolic_pred_dt))\n",
        "print(\"Decision Tree Regression Diastolic MAE:\", mean_absolute_error(y_diastolic_test, y_diastolic_pred_dt))\n",
        "print(\"Decision Tree Regression Diastolic MSLE:\", mean_squared_log_error(y_diastolic_test, y_diastolic_pred_dt))\n",
        "\n",
        "mape_diastolic_dt = np.mean(np.abs((y_diastolic_test - y_diastolic_pred_dt) / y_diastolic_test)) * 100\n",
        "print(\"Decision Tree Regression Diastolic MAPE:\", mape_diastolic_dt)\n",
        "\n",
        "print(\"Decision Tree Regression Diastolic MedAE:\", median_absolute_error(y_diastolic_test, y_diastolic_pred_dt))"
      ],
      "metadata": {
        "colab": {
          "base_uri": "https://localhost:8080/"
        },
        "id": "ETspn1N1JGwN",
        "outputId": "a636f96c-2f79-4ded-f42d-3f743275e472"
      },
      "execution_count": null,
      "outputs": [
        {
          "output_type": "stream",
          "name": "stdout",
          "text": [
            "Decision Tree Regression Diastolic RMSE: 0.7300359761814481\n",
            "Decision Tree Regression Diastolic R2: 0.9897824478178748\n",
            "Decision Tree Regression Diastolic MAE: 0.5974221828216684\n",
            "Decision Tree Regression Diastolic MSLE: 0.0001767816120045204\n",
            "Decision Tree Regression Diastolic MAPE: 1.0772348262459401\n",
            "Decision Tree Regression Diastolic MedAE: 0.5216534009737899\n"
          ]
        }
      ]
    },
    {
      "cell_type": "markdown",
      "source": [
        "## KNeighbors Regressor"
      ],
      "metadata": {
        "id": "jCoZ0m8mJ4wd"
      }
    },
    {
      "cell_type": "code",
      "source": [
        "from sklearn.neighbors import KNeighborsRegressor\n",
        "\n",
        "# Model KNN untuk tekanan darah sistolik\n",
        "knn_systolic = KNeighborsRegressor(n_neighbors=5)  # Tentukan jumlah tetangga yang diinginkan\n",
        "knn_systolic.fit(X_train, y_systolic_train)\n",
        "\n",
        "# Model KNN untuk tekanan darah diastolik\n",
        "knn_diastolic = KNeighborsRegressor(n_neighbors=5)  # Tentukan jumlah tetangga yang diinginkan\n",
        "knn_diastolic.fit(X_train, y_diastolic_train)\n",
        "\n",
        "# Prediksi\n",
        "y_systolic_pred_knn = knn_systolic.predict(X_test)\n",
        "y_diastolic_pred_knn = knn_diastolic.predict(X_test)\n"
      ],
      "metadata": {
        "id": "WcVgKqXFJ_2D"
      },
      "execution_count": null,
      "outputs": []
    },
    {
      "cell_type": "code",
      "source": [
        "from sklearn.metrics import mean_squared_error, r2_score, mean_absolute_error, mean_squared_log_error, median_absolute_error\n",
        "\n",
        "# Evaluasi metrik untuk tekanan darah sistolik\n",
        "print(\"KNN Systolic RMSE:\", np.sqrt(mean_squared_error(y_systolic_test, y_systolic_pred_knn)))\n",
        "print(\"KNN Systolic R2:\", r2_score(y_systolic_test, y_systolic_pred_knn))\n",
        "print(\"KNN Systolic MAE:\", mean_absolute_error(y_systolic_test, y_systolic_pred_knn))\n",
        "print(\"KNN Systolic MSLE:\", mean_squared_log_error(y_systolic_test, y_systolic_pred_knn))\n",
        "\n",
        "mape_systolic_knn = np.mean(np.abs((y_systolic_test - y_systolic_pred_knn) / y_systolic_test)) * 100\n",
        "print(\"KNN Systolic MAPE:\", mape_systolic_knn)\n",
        "\n",
        "print(\"KNN Systolic MedAE:\", median_absolute_error(y_systolic_test, y_systolic_pred_knn))\n"
      ],
      "metadata": {
        "colab": {
          "base_uri": "https://localhost:8080/"
        },
        "id": "x2aKg7EVKHx5",
        "outputId": "9966870d-5a28-4d73-b643-3e0e4bb10127"
      },
      "execution_count": null,
      "outputs": [
        {
          "output_type": "stream",
          "name": "stdout",
          "text": [
            "KNN Systolic RMSE: 2.4253041673490983\n",
            "KNN Systolic R2: 0.9165256883403863\n",
            "KNN Systolic MAE: 1.62829083342945\n",
            "KNN Systolic MSLE: 0.0005215149767754577\n",
            "KNN Systolic MAPE: 1.5284015211873676\n",
            "KNN Systolic MedAE: 0.7889617984078114\n"
          ]
        }
      ]
    },
    {
      "cell_type": "code",
      "source": [
        "\n",
        "# Evaluasi metrik untuk tekanan darah diastolik\n",
        "print(\"KNN Diastolic RMSE:\", np.sqrt(mean_squared_error(y_diastolic_test, y_diastolic_pred_knn)))\n",
        "print(\"KNN Diastolic R2:\", r2_score(y_diastolic_test, y_diastolic_pred_knn))\n",
        "print(\"KNN Diastolic MAE:\", mean_absolute_error(y_diastolic_test, y_diastolic_pred_knn))\n",
        "print(\"KNN Diastolic MSLE:\", mean_squared_log_error(y_diastolic_test, y_diastolic_pred_knn))\n",
        "\n",
        "mape_diastolic_knn = np.mean(np.abs((y_diastolic_test - y_diastolic_pred_knn) / y_diastolic_test)) * 100\n",
        "print(\"KNN Diastolic MAPE:\", mape_diastolic_knn)\n",
        "\n",
        "print(\"KNN Diastolic MedAE:\", median_absolute_error(y_diastolic_test, y_diastolic_pred_knn))\n"
      ],
      "metadata": {
        "colab": {
          "base_uri": "https://localhost:8080/"
        },
        "id": "kaM62AK0KKQX",
        "outputId": "e99d732f-566e-47e4-e5bf-6fc28bc2bca3"
      },
      "execution_count": null,
      "outputs": [
        {
          "output_type": "stream",
          "name": "stdout",
          "text": [
            "KNN Diastolic RMSE: 2.2295467268246525\n",
            "KNN Diastolic R2: 0.9047003081292867\n",
            "KNN Diastolic MAE: 1.68695333684708\n",
            "KNN Diastolic MSLE: 0.0015992562261469107\n",
            "KNN Diastolic MAPE: 3.045684517057067\n",
            "KNN Diastolic MedAE: 1.3277739151391046\n"
          ]
        }
      ]
    },
    {
      "cell_type": "markdown",
      "source": [
        "#Evaluasi Model"
      ],
      "metadata": {
        "id": "c3BXVxV9LI_I"
      }
    },
    {
      "cell_type": "markdown",
      "source": [
        "## Systolic"
      ],
      "metadata": {
        "id": "ggD5ytFlLmf3"
      }
    },
    {
      "cell_type": "code",
      "source": [
        "\n",
        "import numpy as np\n",
        "from sklearn.metrics import mean_squared_error, r2_score, mean_absolute_error, mean_squared_log_error, median_absolute_error\n",
        "\n",
        "# Daftar model dan hasil prediksi\n",
        "models = [\"Linear Regression\", \"SVR\", \"KNN\"]\n",
        "predictions = [y_systolic_pred_lr, y_systolic_pred_svm, y_systolic_pred_knn]\n",
        "test_targets = [y_systolic_test, y_systolic_test, y_systolic_test, y_systolic_test]\n",
        "\n",
        "# Inisialisasi dictionary untuk menyimpan hasil evaluasi\n",
        "evaluation_results = {}\n",
        "\n",
        "# Evaluasi metrik untuk setiap model\n",
        "for model_name, y_pred, y_true in zip(models, predictions, test_targets):\n",
        "    rmse = np.sqrt(mean_squared_error(y_true, y_pred))\n",
        "    r2 = r2_score(y_true, y_pred)\n",
        "    mae = mean_absolute_error(y_true, y_pred)\n",
        "    msle = mean_squared_log_error(y_true, y_pred)\n",
        "    mape = np.mean(np.abs((y_true - y_pred) / y_true)) * 100\n",
        "    medae = median_absolute_error(y_true, y_pred)\n",
        "\n",
        "    evaluation_results[model_name] = {\"RMSE\": rmse, \"R2\": r2, \"MAE\": mae, \"MSLE\": msle, \"MAPE\": mape, \"MedAE\": medae}\n",
        "\n",
        "df_results = pd.DataFrame(evaluation_results).T\n",
        "\n",
        "# Tampilkan DataFrame\n",
        "print(df_results)"
      ],
      "metadata": {
        "colab": {
          "base_uri": "https://localhost:8080/"
        },
        "id": "jDhfK23-KTXj",
        "outputId": "7d54f73e-a73b-49d5-f0f4-5cf28043c7a9"
      },
      "execution_count": null,
      "outputs": [
        {
          "output_type": "stream",
          "name": "stdout",
          "text": [
            "                           RMSE        R2           MAE          MSLE  \\\n",
            "Linear Regression  1.484275e-14  1.000000  1.291896e-14  0.000000e+00   \n",
            "SVR                6.437426e-02  0.999941  4.958224e-02  3.544380e-07   \n",
            "KNN                2.425304e+00  0.916526  1.628291e+00  5.215150e-04   \n",
            "\n",
            "                           MAPE         MedAE  \n",
            "Linear Regression  1.105736e-14  1.421085e-14  \n",
            "SVR                4.510613e-02  3.249730e-02  \n",
            "KNN                1.528402e+00  7.889618e-01  \n"
          ]
        }
      ]
    },
    {
      "cell_type": "markdown",
      "source": [
        "## Diastolic"
      ],
      "metadata": {
        "id": "1s5_xdGWLpqL"
      }
    },
    {
      "cell_type": "code",
      "source": [
        "# Daftar model dan hasil prediksi untuk tekanan darah diastolik\n",
        "models = [\"Linear Regression\", \"SVR\", \"KNN\"]\n",
        "predictions = [y_diastolic_pred_lr, y_diastolic_pred_svm, y_diastolic_pred_knn]\n",
        "test_targets = [y_diastolic_test, y_diastolic_test, y_diastolic_test]\n",
        "\n",
        "# Inisialisasi dictionary untuk menyimpan hasil evaluasi untuk tekanan darah diastolik\n",
        "evaluation_results_diastolic = {}\n",
        "\n",
        "# Evaluasi metrik untuk setiap model pada tekanan darah diastolik\n",
        "for model_name, y_pred, y_true in zip(models, predictions, test_targets):\n",
        "    rmse = np.sqrt(mean_squared_error(y_true, y_pred))\n",
        "    r2 = r2_score(y_true, y_pred)\n",
        "    mae = mean_absolute_error(y_true, y_pred)\n",
        "    msle = mean_squared_log_error(y_true, y_pred)\n",
        "    mape = np.mean(np.abs((y_true - y_pred) / y_true)) * 100\n",
        "    medae = median_absolute_error(y_true, y_pred)\n",
        "\n",
        "    evaluation_results_diastolic[model_name] = {\"RMSE\": rmse, \"R2\": r2, \"MAE\": mae, \"MSLE\": msle, \"MAPE\": mape, \"MedAE\": medae}\n",
        "\n",
        "# Buat DataFrame dari dictionary hasil evaluasi tekanan darah diastolik\n",
        "df_results_diastolic = pd.DataFrame(evaluation_results_diastolic).T\n",
        "\n",
        "# Tampilkan DataFrame\n",
        "print(df_results_diastolic)\n"
      ],
      "metadata": {
        "colab": {
          "base_uri": "https://localhost:8080/"
        },
        "id": "7GZ05FJ_LA_5",
        "outputId": "8316d7eb-b296-495d-c714-827461d04d40"
      },
      "execution_count": null,
      "outputs": [
        {
          "output_type": "stream",
          "name": "stdout",
          "text": [
            "                       RMSE        R2       MAE      MSLE      MAPE     MedAE\n",
            "Linear Regression  0.000000  1.000000  0.000000  0.000000  0.000000  0.000000\n",
            "SVR                0.067621  0.999912  0.054764  0.000002  0.100097  0.051340\n",
            "KNN                2.229547  0.904700  1.686953  0.001599  3.045685  1.327774\n"
          ]
        }
      ]
    }
  ]
}